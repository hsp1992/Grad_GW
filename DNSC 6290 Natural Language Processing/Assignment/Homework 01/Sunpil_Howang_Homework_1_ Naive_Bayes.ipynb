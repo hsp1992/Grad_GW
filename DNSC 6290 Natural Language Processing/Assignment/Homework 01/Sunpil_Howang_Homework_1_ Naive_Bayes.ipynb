{
 "cells": [
  {
   "cell_type": "markdown",
   "metadata": {},
   "source": [
    "# Homework 1"
   ]
  },
  {
   "cell_type": "markdown",
   "metadata": {},
   "source": [
    "Submit the homework to Blackboard by Sunday November 21st 11:59 pm. Make sure that all code blocks in the notebook run and are in order. Before you submit, under the Kernel menu, click **Restart & Run All**. Feel free to use any code from class without citation, but any code used from the internet include comments and citaiton. Use the Yelp data from Lecture_02."
   ]
  },
  {
   "cell_type": "markdown",
   "metadata": {},
   "source": [
    "**Name:** Sunpil Howang"
   ]
  },
  {
   "cell_type": "markdown",
   "metadata": {},
   "source": [
    "## Step 1: Look at the data"
   ]
  },
  {
   "cell_type": "markdown",
   "metadata": {},
   "source": [
    "Load the Yelp data as we did in class. Before cleaning the data use `.apply(len)` to get the character count and `.apply(lambda x: len(x.split()))` to get the 'word' count for each review.  "
   ]
  },
  {
   "cell_type": "code",
   "execution_count": 1,
   "metadata": {},
   "outputs": [],
   "source": [
    "# Following the steps that how professor did.\n",
    "\n",
    "import pandas as pd\n",
    "pd.set_option('display.max_colwidth', None)"
   ]
  },
  {
   "cell_type": "code",
   "execution_count": 2,
   "metadata": {},
   "outputs": [
    {
     "name": "stdout",
     "output_type": "stream",
     "text": [
      "C:\\Users\\showa\\1. NLP\\Assignment 01\n"
     ]
    }
   ],
   "source": [
    "# To check current directory to import yelp csv.\n",
    "\n",
    "import os\n",
    "current_directory = os.getcwd()\n",
    "print(current_directory) \n",
    "\n",
    "changed_directory = os.chdir(r'C:\\Users\\showa\\1. NLP\\Assignment 01\\data')"
   ]
  },
  {
   "cell_type": "code",
   "execution_count": 19,
   "metadata": {},
   "outputs": [],
   "source": [
    "data = pd.read_csv('yelp.csv')\n",
    "data.head(2)"
   ]
  },
  {
   "cell_type": "code",
   "execution_count": 43,
   "metadata": {},
   "outputs": [],
   "source": [
    "df = data.drop(['business_id','date','review_id','type','user_id'], axis = 1)\n",
    "df.head(2)\n",
    "charater = df['text'].apply(len)"
   ]
  },
  {
   "cell_type": "code",
   "execution_count": 44,
   "metadata": {},
   "outputs": [
    {
     "data": {
      "text/plain": [
       "0     889\n",
       "1    1345\n",
       "Name: text, dtype: int64"
      ]
     },
     "execution_count": 44,
     "metadata": {},
     "output_type": "execute_result"
    }
   ],
   "source": [
    "charater.head(2)"
   ]
  },
  {
   "cell_type": "code",
   "execution_count": 45,
   "metadata": {},
   "outputs": [
    {
     "name": "stdout",
     "output_type": "stream",
     "text": [
      "0        889\n",
      "1       1345\n",
      "2         76\n",
      "3        419\n",
      "4        469\n",
      "        ... \n",
      "9995     668\n",
      "9996     881\n",
      "9997    1425\n",
      "9998     880\n",
      "9999     461\n",
      "Name: text, Length: 10000, dtype: int64\n"
     ]
    }
   ],
   "source": [
    "words = df['text'].apply(lambda x: len(x.split()))\n",
    "print(charater)"
   ]
  },
  {
   "cell_type": "code",
   "execution_count": 46,
   "metadata": {},
   "outputs": [
    {
     "name": "stdout",
     "output_type": "stream",
     "text": [
      "0       155\n",
      "1       257\n",
      "2        16\n",
      "3        76\n",
      "4        86\n",
      "       ... \n",
      "9995    120\n",
      "9996    161\n",
      "9997    262\n",
      "9998    147\n",
      "9999     79\n",
      "Name: text, Length: 10000, dtype: int64\n"
     ]
    }
   ],
   "source": [
    "print(words)"
   ]
  },
  {
   "cell_type": "markdown",
   "metadata": {},
   "source": [
    "**a.)** Plot Histograms or Density plots of the character and word counts also use `.describe()`. Comment on the plots.  "
   ]
  },
  {
   "cell_type": "code",
   "execution_count": 54,
   "metadata": {},
   "outputs": [],
   "source": [
    "# import tools for making Histogram\n",
    "import numpy as np\n",
    "import seaborn as sns\n",
    "import matplotlib.pyplot as plt"
   ]
  },
  {
   "cell_type": "code",
   "execution_count": 57,
   "metadata": {},
   "outputs": [
    {
     "data": {
      "text/plain": [
       "Text(0.5, 0, 'Charaters')"
      ]
     },
     "execution_count": 57,
     "metadata": {},
     "output_type": "execute_result"
    },
    {
     "data": {
      "image/png": "[encoded data removed]",
      "text/plain": [
       "<Figure size 432x288 with 1 Axes>"
      ]
     },
     "metadata": {
      "needs_background": "light"
     },
     "output_type": "display_data"
    }
   ],
   "source": [
    "sns.histplot(data = charater)\n",
    "plt.xlabel ('Charaters')"
   ]
  },
  {
   "cell_type": "code",
   "execution_count": 56,
   "metadata": {},
   "outputs": [
    {
     "data": {
      "text/plain": [
       "Text(0.5, 0, 'Word')"
      ]
     },
     "execution_count": 56,
     "metadata": {},
     "output_type": "execute_result"
    },
    {
     "data": {
      "image/png": "[encoded data removed]",
      "text/plain": [
       "<Figure size 432x288 with 1 Axes>"
      ]
     },
     "metadata": {
      "needs_background": "light"
     },
     "output_type": "display_data"
    }
   ],
   "source": [
    "# Plot Histograms or Density plots of the character\n",
    "sns.histplot(data = words)\n",
    "plt.xlabel('Word')"
   ]
  },
  {
   "cell_type": "code",
   "execution_count": 51,
   "metadata": {},
   "outputs": [
    {
     "data": {
      "text/plain": [
       "count    10000.000000\n",
       "mean       710.738700\n",
       "std        617.399827\n",
       "min          1.000000\n",
       "25%        294.000000\n",
       "50%        541.500000\n",
       "75%        930.000000\n",
       "max       4997.000000\n",
       "Name: text, dtype: float64"
      ]
     },
     "execution_count": 51,
     "metadata": {},
     "output_type": "execute_result"
    }
   ],
   "source": [
    "charater.describe()"
   ]
  },
  {
   "cell_type": "code",
   "execution_count": 52,
   "metadata": {
    "scrolled": true
   },
   "outputs": [
    {
     "data": {
      "text/plain": [
       "count    10000.000000\n",
       "mean       131.039600\n",
       "std        113.584114\n",
       "min          1.000000\n",
       "25%         54.000000\n",
       "50%        101.000000\n",
       "75%        173.000000\n",
       "max        945.000000\n",
       "Name: text, dtype: float64"
      ]
     },
     "execution_count": 52,
     "metadata": {},
     "output_type": "execute_result"
    }
   ],
   "source": [
    "words.describe()"
   ]
  },
  {
   "cell_type": "markdown",
   "metadata": {},
   "source": [
    "## From the result above, I was able to see that each review contained average of 131.039 words and maximum was 945 word for a single review. From the plot, I was also able to see that frequency decreased as the number of words and charaters increased."
   ]
  },
  {
   "cell_type": "markdown",
   "metadata": {},
   "source": [
    "**b.)** Print all 1 and 2 word reviews. Comment on the reviews and what effect including these in the training and test data might have.  "
   ]
  },
  {
   "cell_type": "code",
   "execution_count": 10,
   "metadata": {},
   "outputs": [
    {
     "data": {
      "text/html": [
       "<div>\n",
       "<style scoped>\n",
       "    .dataframe tbody tr th:only-of-type {\n",
       "        vertical-align: middle;\n",
       "    }\n",
       "\n",
       "    .dataframe tbody tr th {\n",
       "        vertical-align: top;\n",
       "    }\n",
       "\n",
       "    .dataframe thead th {\n",
       "        text-align: right;\n",
       "    }\n",
       "</style>\n",
       "<table border=\"1\" class=\"dataframe\">\n",
       "  <thead>\n",
       "    <tr style=\"text-align: right;\">\n",
       "      <th></th>\n",
       "      <th>business_id</th>\n",
       "      <th>date</th>\n",
       "      <th>review_id</th>\n",
       "      <th>stars</th>\n",
       "      <th>text</th>\n",
       "      <th>type</th>\n",
       "      <th>user_id</th>\n",
       "      <th>cool</th>\n",
       "      <th>useful</th>\n",
       "      <th>funny</th>\n",
       "    </tr>\n",
       "  </thead>\n",
       "  <tbody>\n",
       "    <tr>\n",
       "      <th>1919</th>\n",
       "      <td>WM8sy8FjrU3PpxN_NI02ZA</td>\n",
       "      <td>2012-03-16</td>\n",
       "      <td>fUPyltvyHqgmzftT4VhWvA</td>\n",
       "      <td>1</td>\n",
       "      <td>D-scust-ing.</td>\n",
       "      <td>review</td>\n",
       "      <td>SGXahHRReksq3m_Zk9V20w</td>\n",
       "      <td>0</td>\n",
       "      <td>1</td>\n",
       "      <td>0</td>\n",
       "    </tr>\n",
       "    <tr>\n",
       "      <th>2931</th>\n",
       "      <td>rRXGdtqUTBtczey1DGenEQ</td>\n",
       "      <td>2012-08-20</td>\n",
       "      <td>0zfkrAdu1SE3ZbTO3_bN_A</td>\n",
       "      <td>5</td>\n",
       "      <td>Super!</td>\n",
       "      <td>review</td>\n",
       "      <td>clWfsHVPgeSEusg-W6ybVg</td>\n",
       "      <td>0</td>\n",
       "      <td>0</td>\n",
       "      <td>0</td>\n",
       "    </tr>\n",
       "    <tr>\n",
       "      <th>3854</th>\n",
       "      <td>Zw4CvOwXJj1QA85SvB99Hw</td>\n",
       "      <td>2011-01-17</td>\n",
       "      <td>lQLprkBt4W4XbgCHGe3HqQ</td>\n",
       "      <td>5</td>\n",
       "      <td>Awesome!!!</td>\n",
       "      <td>review</td>\n",
       "      <td>T7QG8ge2ukcfvEosSkg8yA</td>\n",
       "      <td>0</td>\n",
       "      <td>0</td>\n",
       "      <td>0</td>\n",
       "    </tr>\n",
       "    <tr>\n",
       "      <th>4091</th>\n",
       "      <td>saiTvSpVRktGqgt1f4dQIw</td>\n",
       "      <td>2012-11-02</td>\n",
       "      <td>8u2AsQlHNgNqNICRjbSqkg</td>\n",
       "      <td>5</td>\n",
       "      <td>Intense!</td>\n",
       "      <td>review</td>\n",
       "      <td>bIZiqk9KkgrnVizFB5feLA</td>\n",
       "      <td>0</td>\n",
       "      <td>0</td>\n",
       "      <td>0</td>\n",
       "    </tr>\n",
       "    <tr>\n",
       "      <th>4968</th>\n",
       "      <td>iV7D7fHKb-bF9fCL_bEMtA</td>\n",
       "      <td>2012-11-25</td>\n",
       "      <td>lfP-h9GlmgqqAlqcPgvXhQ</td>\n",
       "      <td>5</td>\n",
       "      <td>Excellent.</td>\n",
       "      <td>review</td>\n",
       "      <td>e-89w7FUWyUKgAELA75E3w</td>\n",
       "      <td>0</td>\n",
       "      <td>0</td>\n",
       "      <td>0</td>\n",
       "    </tr>\n",
       "    <tr>\n",
       "      <th>5105</th>\n",
       "      <td>TpQMR-JFE5V0UPzTjjuwFQ</td>\n",
       "      <td>2012-10-28</td>\n",
       "      <td>OzLuYcpWmm-5cq8RrCqReQ</td>\n",
       "      <td>5</td>\n",
       "      <td>Excellent</td>\n",
       "      <td>review</td>\n",
       "      <td>3p_muaP7a652QYtHUZNsFQ</td>\n",
       "      <td>0</td>\n",
       "      <td>0</td>\n",
       "      <td>0</td>\n",
       "    </tr>\n",
       "    <tr>\n",
       "      <th>6450</th>\n",
       "      <td>tbRu-3NR5za1SEZkszcp5Q</td>\n",
       "      <td>2012-01-03</td>\n",
       "      <td>IVoMGfn9QrZ4dATwc9HBcg</td>\n",
       "      <td>3</td>\n",
       "      <td>X</td>\n",
       "      <td>review</td>\n",
       "      <td>SHcX9hp5RG3-OqsbvissIQ</td>\n",
       "      <td>0</td>\n",
       "      <td>0</td>\n",
       "      <td>0</td>\n",
       "    </tr>\n",
       "    <tr>\n",
       "      <th>6708</th>\n",
       "      <td>KGX7O-_WqOIy9o7u9NOa9A</td>\n",
       "      <td>2011-04-19</td>\n",
       "      <td>EdFx6mNJDfJWP6yDO42cUQ</td>\n",
       "      <td>4</td>\n",
       "      <td>Go</td>\n",
       "      <td>review</td>\n",
       "      <td>vnSz2VT6s-gdRBjlFDACYg</td>\n",
       "      <td>0</td>\n",
       "      <td>0</td>\n",
       "      <td>0</td>\n",
       "    </tr>\n",
       "    <tr>\n",
       "      <th>7881</th>\n",
       "      <td>jj-K19oswZARMwCQK-b37A</td>\n",
       "      <td>2012-07-25</td>\n",
       "      <td>eAoV5Vuhh1GvDK8FbqNyHQ</td>\n",
       "      <td>3</td>\n",
       "      <td>Meh.</td>\n",
       "      <td>review</td>\n",
       "      <td>iq46mlqoLmNQzTR1z8oqUA</td>\n",
       "      <td>0</td>\n",
       "      <td>1</td>\n",
       "      <td>0</td>\n",
       "    </tr>\n",
       "    <tr>\n",
       "      <th>9688</th>\n",
       "      <td>cp39VURFby4A6u9m2It8jg</td>\n",
       "      <td>2012-08-09</td>\n",
       "      <td>Pa0j9chxMZpOhRb2A0R7DQ</td>\n",
       "      <td>5</td>\n",
       "      <td>Yummy!</td>\n",
       "      <td>review</td>\n",
       "      <td>I6KftQl6q4I7IuKV7wPR7w</td>\n",
       "      <td>0</td>\n",
       "      <td>1</td>\n",
       "      <td>0</td>\n",
       "    </tr>\n",
       "  </tbody>\n",
       "</table>\n",
       "</div>"
      ],
      "text/plain": [
       "                 business_id        date               review_id  stars  \\\n",
       "1919  WM8sy8FjrU3PpxN_NI02ZA  2012-03-16  fUPyltvyHqgmzftT4VhWvA      1   \n",
       "2931  rRXGdtqUTBtczey1DGenEQ  2012-08-20  0zfkrAdu1SE3ZbTO3_bN_A      5   \n",
       "3854  Zw4CvOwXJj1QA85SvB99Hw  2011-01-17  lQLprkBt4W4XbgCHGe3HqQ      5   \n",
       "4091  saiTvSpVRktGqgt1f4dQIw  2012-11-02  8u2AsQlHNgNqNICRjbSqkg      5   \n",
       "4968  iV7D7fHKb-bF9fCL_bEMtA  2012-11-25  lfP-h9GlmgqqAlqcPgvXhQ      5   \n",
       "5105  TpQMR-JFE5V0UPzTjjuwFQ  2012-10-28  OzLuYcpWmm-5cq8RrCqReQ      5   \n",
       "6450  tbRu-3NR5za1SEZkszcp5Q  2012-01-03  IVoMGfn9QrZ4dATwc9HBcg      3   \n",
       "6708  KGX7O-_WqOIy9o7u9NOa9A  2011-04-19  EdFx6mNJDfJWP6yDO42cUQ      4   \n",
       "7881  jj-K19oswZARMwCQK-b37A  2012-07-25  eAoV5Vuhh1GvDK8FbqNyHQ      3   \n",
       "9688  cp39VURFby4A6u9m2It8jg  2012-08-09  Pa0j9chxMZpOhRb2A0R7DQ      5   \n",
       "\n",
       "              text    type                 user_id  cool  useful  funny  \n",
       "1919  D-scust-ing.  review  SGXahHRReksq3m_Zk9V20w     0       1      0  \n",
       "2931        Super!  review  clWfsHVPgeSEusg-W6ybVg     0       0      0  \n",
       "3854    Awesome!!!  review  T7QG8ge2ukcfvEosSkg8yA     0       0      0  \n",
       "4091      Intense!  review  bIZiqk9KkgrnVizFB5feLA     0       0      0  \n",
       "4968    Excellent.  review  e-89w7FUWyUKgAELA75E3w     0       0      0  \n",
       "5105     Excellent  review  3p_muaP7a652QYtHUZNsFQ     0       0      0  \n",
       "6450             X  review  SHcX9hp5RG3-OqsbvissIQ     0       0      0  \n",
       "6708            Go  review  vnSz2VT6s-gdRBjlFDACYg     0       0      0  \n",
       "7881          Meh.  review  iq46mlqoLmNQzTR1z8oqUA     0       1      0  \n",
       "9688        Yummy!  review  I6KftQl6q4I7IuKV7wPR7w     0       1      0  "
      ]
     },
     "execution_count": 10,
     "metadata": {},
     "output_type": "execute_result"
    }
   ],
   "source": [
    "# Print all 1 and 2 word reviews.\n",
    "\n",
    "# Print all 1 word reviews.\n",
    "data.loc[x == 1].copy()"
   ]
  },
  {
   "cell_type": "code",
   "execution_count": 11,
   "metadata": {
    "scrolled": false
   },
   "outputs": [
    {
     "data": {
      "text/html": [
       "<div>\n",
       "<style scoped>\n",
       "    .dataframe tbody tr th:only-of-type {\n",
       "        vertical-align: middle;\n",
       "    }\n",
       "\n",
       "    .dataframe tbody tr th {\n",
       "        vertical-align: top;\n",
       "    }\n",
       "\n",
       "    .dataframe thead th {\n",
       "        text-align: right;\n",
       "    }\n",
       "</style>\n",
       "<table border=\"1\" class=\"dataframe\">\n",
       "  <thead>\n",
       "    <tr style=\"text-align: right;\">\n",
       "      <th></th>\n",
       "      <th>business_id</th>\n",
       "      <th>date</th>\n",
       "      <th>review_id</th>\n",
       "      <th>stars</th>\n",
       "      <th>text</th>\n",
       "      <th>type</th>\n",
       "      <th>user_id</th>\n",
       "      <th>cool</th>\n",
       "      <th>useful</th>\n",
       "      <th>funny</th>\n",
       "    </tr>\n",
       "  </thead>\n",
       "  <tbody>\n",
       "    <tr>\n",
       "      <th>217</th>\n",
       "      <td>D0K0F0RREGO8LeW16IlZlQ</td>\n",
       "      <td>2012-02-28</td>\n",
       "      <td>3_rbagmhkqp4mPJiwoMlmw</td>\n",
       "      <td>5</td>\n",
       "      <td>Love Krista!</td>\n",
       "      <td>review</td>\n",
       "      <td>o7sNqbEsMrztrVV_3RU4Hw</td>\n",
       "      <td>0</td>\n",
       "      <td>2</td>\n",
       "      <td>0</td>\n",
       "    </tr>\n",
       "    <tr>\n",
       "      <th>284</th>\n",
       "      <td>Hf_MFIPi7ZiIWDQodJMzwg</td>\n",
       "      <td>2012-10-25</td>\n",
       "      <td>9l7FzgtZobP81lMwEQy4AA</td>\n",
       "      <td>5</td>\n",
       "      <td>Great service</td>\n",
       "      <td>review</td>\n",
       "      <td>9VmTOyq01oIUk5zuxOj1GA</td>\n",
       "      <td>0</td>\n",
       "      <td>0</td>\n",
       "      <td>1</td>\n",
       "    </tr>\n",
       "    <tr>\n",
       "      <th>679</th>\n",
       "      <td>4AKcmN--0hbF0kX9pg8scg</td>\n",
       "      <td>2012-03-11</td>\n",
       "      <td>8RdvpQ1dFAUE8kIZvbtbcw</td>\n",
       "      <td>5</td>\n",
       "      <td>Excellent burger</td>\n",
       "      <td>review</td>\n",
       "      <td>ebCOe-Bavz5fYCVL716KIA</td>\n",
       "      <td>0</td>\n",
       "      <td>1</td>\n",
       "      <td>2</td>\n",
       "    </tr>\n",
       "    <tr>\n",
       "      <th>1075</th>\n",
       "      <td>R8VwdLyvsp9iybNqRvm94g</td>\n",
       "      <td>2012-01-31</td>\n",
       "      <td>ox914gCFn8tM8KJf8hmSnQ</td>\n",
       "      <td>5</td>\n",
       "      <td>Nic-nacs galore!</td>\n",
       "      <td>review</td>\n",
       "      <td>yrXCDuHsWLt14ql-aLOCYg</td>\n",
       "      <td>0</td>\n",
       "      <td>0</td>\n",
       "      <td>0</td>\n",
       "    </tr>\n",
       "    <tr>\n",
       "      <th>1290</th>\n",
       "      <td>QSCeI8HdUluG-YmbDWo-fw</td>\n",
       "      <td>2012-02-17</td>\n",
       "      <td>SjWAYNV79iT-j6NSUS1Rcw</td>\n",
       "      <td>2</td>\n",
       "      <td>No good</td>\n",
       "      <td>review</td>\n",
       "      <td>VRzQrrqpEonzull95pDCww</td>\n",
       "      <td>0</td>\n",
       "      <td>0</td>\n",
       "      <td>1</td>\n",
       "    </tr>\n",
       "    <tr>\n",
       "      <th>2016</th>\n",
       "      <td>-yxfBYGB6SEqszmxJxd97A</td>\n",
       "      <td>2012-07-07</td>\n",
       "      <td>jqgQg-i2lxWVKFN7ciZmjA</td>\n",
       "      <td>5</td>\n",
       "      <td>Amazing. Romantic!</td>\n",
       "      <td>review</td>\n",
       "      <td>aom-4my104ueMEqRBf3log</td>\n",
       "      <td>0</td>\n",
       "      <td>1</td>\n",
       "      <td>0</td>\n",
       "    </tr>\n",
       "    <tr>\n",
       "      <th>2733</th>\n",
       "      <td>WYj43z0qmlKklhcvV75mwQ</td>\n",
       "      <td>2013-01-02</td>\n",
       "      <td>5kmDKV6A3CZjLYvpYY7L6Q</td>\n",
       "      <td>5</td>\n",
       "      <td>Good food</td>\n",
       "      <td>review</td>\n",
       "      <td>_QrW0F17JNDfgao-bpz9Ng</td>\n",
       "      <td>0</td>\n",
       "      <td>0</td>\n",
       "      <td>0</td>\n",
       "    </tr>\n",
       "    <tr>\n",
       "      <th>2892</th>\n",
       "      <td>AIaEFC65T7BKVl03INm1eg</td>\n",
       "      <td>2010-12-20</td>\n",
       "      <td>747-H8tvuxXOEMMviYBXiA</td>\n",
       "      <td>5</td>\n",
       "      <td>Great Job!</td>\n",
       "      <td>review</td>\n",
       "      <td>wtn-JNypbM7IupJm9t40Hw</td>\n",
       "      <td>0</td>\n",
       "      <td>0</td>\n",
       "      <td>0</td>\n",
       "    </tr>\n",
       "    <tr>\n",
       "      <th>3921</th>\n",
       "      <td>kkBMTNET2xgHCW-cnNwKxA</td>\n",
       "      <td>2012-12-21</td>\n",
       "      <td>M_GC_TG9TpSzMAUQ_TAimw</td>\n",
       "      <td>5</td>\n",
       "      <td>Great service</td>\n",
       "      <td>review</td>\n",
       "      <td>9VmTOyq01oIUk5zuxOj1GA</td>\n",
       "      <td>0</td>\n",
       "      <td>0</td>\n",
       "      <td>0</td>\n",
       "    </tr>\n",
       "    <tr>\n",
       "      <th>4348</th>\n",
       "      <td>sDXINrHrs8phlkzkwQNiBQ</td>\n",
       "      <td>2012-05-16</td>\n",
       "      <td>tB4Kq-Jcp_zt8B-PCE226A</td>\n",
       "      <td>4</td>\n",
       "      <td>Great help!</td>\n",
       "      <td>review</td>\n",
       "      <td>zASARWgR6xyOt2cfRtM43w</td>\n",
       "      <td>0</td>\n",
       "      <td>1</td>\n",
       "      <td>0</td>\n",
       "    </tr>\n",
       "    <tr>\n",
       "      <th>4759</th>\n",
       "      <td>3r5V8n1sabGkueQFsqoC6Q</td>\n",
       "      <td>2012-07-10</td>\n",
       "      <td>XN4C9E4Gj79bhbWwLshc_w</td>\n",
       "      <td>4</td>\n",
       "      <td>standard Target.</td>\n",
       "      <td>review</td>\n",
       "      <td>0mqHhdKEdak_A1FBhFNXqA</td>\n",
       "      <td>0</td>\n",
       "      <td>0</td>\n",
       "      <td>0</td>\n",
       "    </tr>\n",
       "    <tr>\n",
       "      <th>4851</th>\n",
       "      <td>kYkuqU9wJS01L8q4d2nTTg</td>\n",
       "      <td>2010-09-08</td>\n",
       "      <td>RNow4E11pxrE3Davw9Gynw</td>\n",
       "      <td>1</td>\n",
       "      <td>Just don't.</td>\n",
       "      <td>review</td>\n",
       "      <td>f3LA83yEEBMj9q92H28O7w</td>\n",
       "      <td>0</td>\n",
       "      <td>0</td>\n",
       "      <td>0</td>\n",
       "    </tr>\n",
       "    <tr>\n",
       "      <th>5539</th>\n",
       "      <td>oWq_NiPJq20svbRCJ1hLGQ</td>\n",
       "      <td>2012-01-29</td>\n",
       "      <td>bb_bsu_zjTSgOZzbS5gbVw</td>\n",
       "      <td>5</td>\n",
       "      <td>Good works</td>\n",
       "      <td>review</td>\n",
       "      <td>nzhUfCzDUW8VFLc40nAtsA</td>\n",
       "      <td>0</td>\n",
       "      <td>0</td>\n",
       "      <td>0</td>\n",
       "    </tr>\n",
       "    <tr>\n",
       "      <th>6004</th>\n",
       "      <td>kBF7JSs3VGdjjcf46vk4nw</td>\n",
       "      <td>2011-08-30</td>\n",
       "      <td>i3xPmdqIhhlnM91_KBT9lA</td>\n",
       "      <td>4</td>\n",
       "      <td>Great sandwich</td>\n",
       "      <td>review</td>\n",
       "      <td>F1z0661Q9JIOMugXvrL12g</td>\n",
       "      <td>0</td>\n",
       "      <td>0</td>\n",
       "      <td>0</td>\n",
       "    </tr>\n",
       "    <tr>\n",
       "      <th>6448</th>\n",
       "      <td>xtX2qS64zP2NRPV_7NNqHw</td>\n",
       "      <td>2011-11-05</td>\n",
       "      <td>MBUxmQjbJDRiL-mjAy99dw</td>\n",
       "      <td>5</td>\n",
       "      <td>Awesome pool.</td>\n",
       "      <td>review</td>\n",
       "      <td>3JR8Z1-qdWOWEDycbrIflQ</td>\n",
       "      <td>0</td>\n",
       "      <td>0</td>\n",
       "      <td>0</td>\n",
       "    </tr>\n",
       "    <tr>\n",
       "      <th>9924</th>\n",
       "      <td>mhQCxOiqp03qnhGRTtPduw</td>\n",
       "      <td>2012-07-07</td>\n",
       "      <td>PCjnn__E8AzNa2kXFXxTHQ</td>\n",
       "      <td>1</td>\n",
       "      <td>Horrible service.</td>\n",
       "      <td>review</td>\n",
       "      <td>rvaJcf5OIY2So_pkoqDHLQ</td>\n",
       "      <td>0</td>\n",
       "      <td>1</td>\n",
       "      <td>0</td>\n",
       "    </tr>\n",
       "  </tbody>\n",
       "</table>\n",
       "</div>"
      ],
      "text/plain": [
       "                 business_id        date               review_id  stars  \\\n",
       "217   D0K0F0RREGO8LeW16IlZlQ  2012-02-28  3_rbagmhkqp4mPJiwoMlmw      5   \n",
       "284   Hf_MFIPi7ZiIWDQodJMzwg  2012-10-25  9l7FzgtZobP81lMwEQy4AA      5   \n",
       "679   4AKcmN--0hbF0kX9pg8scg  2012-03-11  8RdvpQ1dFAUE8kIZvbtbcw      5   \n",
       "1075  R8VwdLyvsp9iybNqRvm94g  2012-01-31  ox914gCFn8tM8KJf8hmSnQ      5   \n",
       "1290  QSCeI8HdUluG-YmbDWo-fw  2012-02-17  SjWAYNV79iT-j6NSUS1Rcw      2   \n",
       "2016  -yxfBYGB6SEqszmxJxd97A  2012-07-07  jqgQg-i2lxWVKFN7ciZmjA      5   \n",
       "2733  WYj43z0qmlKklhcvV75mwQ  2013-01-02  5kmDKV6A3CZjLYvpYY7L6Q      5   \n",
       "2892  AIaEFC65T7BKVl03INm1eg  2010-12-20  747-H8tvuxXOEMMviYBXiA      5   \n",
       "3921  kkBMTNET2xgHCW-cnNwKxA  2012-12-21  M_GC_TG9TpSzMAUQ_TAimw      5   \n",
       "4348  sDXINrHrs8phlkzkwQNiBQ  2012-05-16  tB4Kq-Jcp_zt8B-PCE226A      4   \n",
       "4759  3r5V8n1sabGkueQFsqoC6Q  2012-07-10  XN4C9E4Gj79bhbWwLshc_w      4   \n",
       "4851  kYkuqU9wJS01L8q4d2nTTg  2010-09-08  RNow4E11pxrE3Davw9Gynw      1   \n",
       "5539  oWq_NiPJq20svbRCJ1hLGQ  2012-01-29  bb_bsu_zjTSgOZzbS5gbVw      5   \n",
       "6004  kBF7JSs3VGdjjcf46vk4nw  2011-08-30  i3xPmdqIhhlnM91_KBT9lA      4   \n",
       "6448  xtX2qS64zP2NRPV_7NNqHw  2011-11-05  MBUxmQjbJDRiL-mjAy99dw      5   \n",
       "9924  mhQCxOiqp03qnhGRTtPduw  2012-07-07  PCjnn__E8AzNa2kXFXxTHQ      1   \n",
       "\n",
       "                    text    type                 user_id  cool  useful  funny  \n",
       "217         Love Krista!  review  o7sNqbEsMrztrVV_3RU4Hw     0       2      0  \n",
       "284        Great service  review  9VmTOyq01oIUk5zuxOj1GA     0       0      1  \n",
       "679     Excellent burger  review  ebCOe-Bavz5fYCVL716KIA     0       1      2  \n",
       "1075    Nic-nacs galore!  review  yrXCDuHsWLt14ql-aLOCYg     0       0      0  \n",
       "1290             No good  review  VRzQrrqpEonzull95pDCww     0       0      1  \n",
       "2016  Amazing. Romantic!  review  aom-4my104ueMEqRBf3log     0       1      0  \n",
       "2733           Good food  review  _QrW0F17JNDfgao-bpz9Ng     0       0      0  \n",
       "2892          Great Job!  review  wtn-JNypbM7IupJm9t40Hw     0       0      0  \n",
       "3921       Great service  review  9VmTOyq01oIUk5zuxOj1GA     0       0      0  \n",
       "4348         Great help!  review  zASARWgR6xyOt2cfRtM43w     0       1      0  \n",
       "4759    standard Target.  review  0mqHhdKEdak_A1FBhFNXqA     0       0      0  \n",
       "4851         Just don't.  review  f3LA83yEEBMj9q92H28O7w     0       0      0  \n",
       "5539          Good works  review  nzhUfCzDUW8VFLc40nAtsA     0       0      0  \n",
       "6004      Great sandwich  review  F1z0661Q9JIOMugXvrL12g     0       0      0  \n",
       "6448       Awesome pool.  review  3JR8Z1-qdWOWEDycbrIflQ     0       0      0  \n",
       "9924   Horrible service.  review  rvaJcf5OIY2So_pkoqDHLQ     0       1      0  "
      ]
     },
     "execution_count": 11,
     "metadata": {},
     "output_type": "execute_result"
    }
   ],
   "source": [
    "# Print all 2 word reviews.\n",
    "data.loc[x == 2].copy()"
   ]
  },
  {
   "cell_type": "code",
   "execution_count": 63,
   "metadata": {},
   "outputs": [
    {
     "name": "stdout",
     "output_type": "stream",
     "text": [
      "[['Love', 'Krista!'], ['Great', 'service'], ['Excellent', 'burger'], ['Nic-nacs', 'galore!'], ['No', 'good'], ['D-scust-ing.'], ['Amazing.', 'Romantic!'], ['Good', 'food'], ['Great', 'Job!'], ['Super!'], ['Awesome!!!'], ['Great', 'service'], ['Intense!'], ['Great', 'help!'], ['standard', 'Target.'], ['Just', \"don't.\"], ['Excellent.'], ['Excellent'], ['Good', 'works'], ['Great', 'sandwich'], ['Awesome', 'pool.'], ['X'], ['Go'], ['Meh.'], ['Yummy!'], ['Horrible', 'service.']]\n",
      "26\n"
     ]
    }
   ],
   "source": [
    "# Print all 1 and 2 word reviews\n",
    "word_word = df['text'].apply(lambda x :x.split())\n",
    "def count_word(data):\n",
    "    review = []\n",
    "    for i in data:\n",
    "        if len(i) <= 2:\n",
    "            review.append(i)\n",
    "        else:\n",
    "            continue\n",
    "    print(review)\n",
    "    print(len(review))\n",
    "count_word(word_word)"
   ]
  },
  {
   "cell_type": "markdown",
   "metadata": {},
   "source": [
    "## Total 26 words in 1 or 2 words in review."
   ]
  },
  {
   "cell_type": "markdown",
   "metadata": {},
   "source": [
    "**c.)** Apply the clean function from class, overwrite 'text' or assign a new variable 'clean_text' that will be used to answer all questions moving forward. Rerun the 'word' counts. Print all 1 and 2 word reviews again, what are the differences? Are there any changes that could be made to the cleaning that might keep additional signals of the reviews sentiment?  "
   ]
  },
  {
   "cell_type": "code",
   "execution_count": 65,
   "metadata": {},
   "outputs": [
    {
     "name": "stdout",
     "output_type": "stream",
     "text": [
      "[['Love', 'Krista'], ['Great', 'service'], ['Excellent', 'burger'], ['No', 'good'], ['Amazing', 'Romantic'], ['Good', 'food'], ['Great', 'Job'], ['Super'], ['Awesome'], ['Great', 'service'], ['Intense'], ['Great', 'help'], ['standard', 'Target'], ['Just', \"don't\"], ['Excellent'], ['Excellent'], ['Good', 'works'], ['Great', 'sandwich'], ['Awesome', 'pool'], ['X'], ['Go'], ['Meh'], ['Yummy'], ['Horrible', 'service']]\n",
      "24\n"
     ]
    }
   ],
   "source": [
    "import re\n",
    "import pandas as pd\n",
    "\n",
    "def clean(text, lower = False):\n",
    "    text = re.sub(\"[^A-Za-z ']\", ' ', text)\n",
    "    if lower:\n",
    "        return re.sub(\"[ ]+\", ' ', text.lower())\n",
    "    return re.sub(\"[ ]+\", ' ', text)\n",
    "cleaned_text = []\n",
    "for i in data['text']:\n",
    "    cleaning = clean(i)\n",
    "    cleaned_text.append(cleaning)\n",
    "df['clean_text'] = cleaned_text\n",
    "word_word_2 = df['clean_text'].apply(lambda x :x.split())\n",
    "count_word(word_word_2)"
   ]
  },
  {
   "cell_type": "markdown",
   "metadata": {},
   "source": [
    "## There are 24 words and many special charaters such as (!,@,#,$,%,^) have been removed from the reivew."
   ]
  },
  {
   "cell_type": "markdown",
   "metadata": {},
   "source": [
    "**d.)** Compare the plots for word counts of reviews recieving 1 or 2 stars to those 3 to 4 stars. Do you notice any difference? If you do how might this affect analysis?"
   ]
  },
  {
   "cell_type": "code",
   "execution_count": 76,
   "metadata": {},
   "outputs": [],
   "source": [
    "# Need only for One and Two\n",
    "oneandtwo = df.loc[df['stars'] <= 2]\n",
    "# Only for Three and Four\n",
    "threeandfour = df.loc[(df['stars'] > 2) & (df['stars'] < 5)]\n",
    "\n",
    "#one and two word count\n",
    "ww1 = oneandtwo['clean_text'].apply(lambda x : len(x.split()))\n",
    "# three and four word count\n",
    "ww2 = threeandfour['clean_text'].apply(lambda x : len(x.split()))\n",
    "\n"
   ]
  },
  {
   "cell_type": "code",
   "execution_count": 80,
   "metadata": {},
   "outputs": [
    {
     "data": {
      "text/plain": [
       "Text(0.5, 1.0, 'review of 1 and 2')"
      ]
     },
     "execution_count": 80,
     "metadata": {},
     "output_type": "execute_result"
    },
    {
     "data": {
      "image/png": "[encoded data removed]",
      "text/plain": [
       "<Figure size 432x288 with 1 Axes>"
      ]
     },
     "metadata": {
      "needs_background": "light"
     },
     "output_type": "display_data"
    }
   ],
   "source": [
    "sns.histplot(data = ww1)\n",
    "plt.title(\"review of 1 and 2\")"
   ]
  },
  {
   "cell_type": "code",
   "execution_count": 79,
   "metadata": {},
   "outputs": [
    {
     "data": {
      "text/plain": [
       "Text(0.5, 1.0, 'review of 3 and 4')"
      ]
     },
     "execution_count": 79,
     "metadata": {},
     "output_type": "execute_result"
    },
    {
     "data": {
      "image/png": "[encoded data removed]",
      "text/plain": [
       "<Figure size 432x288 with 1 Axes>"
      ]
     },
     "metadata": {
      "needs_background": "light"
     },
     "output_type": "display_data"
    }
   ],
   "source": [
    "sns.histplot(data = ww2)\n",
    "plt.title(\"review of 3 and 4\")"
   ]
  },
  {
   "cell_type": "markdown",
   "metadata": {},
   "source": [
    "## From the two different chart, I was able to recognize that stars of 3 and 4 has more words than stars of 1 and 2."
   ]
  },
  {
   "cell_type": "markdown",
   "metadata": {},
   "source": [
    "## Step 2: Establish a baseline"
   ]
  },
  {
   "cell_type": "markdown",
   "metadata": {},
   "source": [
    "Use `sklearn.model_selection.train_test_split()` with `random_state = 123` to create stratified train(80%) and test(20%) with positive (4 and 5 star) and negative (1 and 2 star) as the target.  "
   ]
  },
  {
   "cell_type": "code",
   "execution_count": 81,
   "metadata": {},
   "outputs": [],
   "source": [
    "from sklearn.model_selection import train_test_split, cross_val_score\n",
    "from sklearn.pipeline import Pipeline\n",
    "from sklearn.feature_extraction.text import TfidfVectorizer\n",
    "from sklearn.naive_bayes import MultinomialNB, BernoulliNB\n",
    "from sklearn.metrics import classification_report, confusion_matrix\n",
    "\n"
   ]
  },
  {
   "cell_type": "code",
   "execution_count": 84,
   "metadata": {},
   "outputs": [],
   "source": [
    "X_train, X_test, y_train, y_test = train_test_split(df.clean_text, \n",
    "                                                    df.stars, \n",
    "                                                    test_size = .2,\n",
    "                                                    random_state = 123)"
   ]
  },
  {
   "cell_type": "markdown",
   "metadata": {},
   "source": [
    "**a.)** What is an absolute baseline (in that it is bad if a model underperforms this) and why?  "
   ]
  },
  {
   "cell_type": "code",
   "execution_count": 85,
   "metadata": {},
   "outputs": [],
   "source": [
    "config = {'vect__ngram_range': (1,1),\n",
    "          'vect__norm': 'l2',\n",
    "          'vect__use_idf': True,\n",
    "          'clf__alpha': 1}\n"
   ]
  },
  {
   "cell_type": "code",
   "execution_count": 86,
   "metadata": {},
   "outputs": [
    {
     "data": {
      "text/plain": [
       "Pipeline(steps=[('vect', TfidfVectorizer()), ('clf', BernoulliNB(alpha=1))])"
      ]
     },
     "execution_count": 86,
     "metadata": {},
     "output_type": "execute_result"
    }
   ],
   "source": [
    "NB_classifier = Pipeline([('vect',TfidfVectorizer()), ('clf', BernoulliNB())])\n",
    "NB_classifier.set_params(**config)\n"
   ]
  },
  {
   "cell_type": "code",
   "execution_count": 87,
   "metadata": {},
   "outputs": [
    {
     "name": "stdout",
     "output_type": "stream",
     "text": [
      "              precision    recall  f1-score   support\n",
      "\n",
      "           1       0.53      0.13      0.21       142\n",
      "           2       0.22      0.12      0.15       204\n",
      "           3       0.24      0.07      0.11       282\n",
      "           4       0.42      0.42      0.42       721\n",
      "           5       0.43      0.69      0.53       651\n",
      "\n",
      "    accuracy                           0.41      2000\n",
      "   macro avg       0.37      0.29      0.29      2000\n",
      "weighted avg       0.39      0.41      0.37      2000\n",
      "\n"
     ]
    }
   ],
   "source": [
    "NB_classifier.fit(X_train, y_train)\n",
    "print(classification_report(y_test,NB_classifier.predict(X_test)))\n",
    "\n"
   ]
  },
  {
   "cell_type": "markdown",
   "metadata": {},
   "source": [
    "**b.)** List sklearns default parameters for MultinomialNB to create another baseline. What are these values? Comment on its performance relative to part **a**."
   ]
  },
  {
   "cell_type": "code",
   "execution_count": 112,
   "metadata": {},
   "outputs": [],
   "source": [
    "config = {'vect__ngram_range': (1,1),\n",
    "          'vect__norm': 'l2',\n",
    "          'vect__use_idf': True,\n",
    "          'clf__alpha': 0.001}\n"
   ]
  },
  {
   "cell_type": "code",
   "execution_count": 113,
   "metadata": {},
   "outputs": [
    {
     "data": {
      "text/plain": [
       "Pipeline(steps=[('vect', TfidfVectorizer()), ('clf', BernoulliNB(alpha=0.001))])"
      ]
     },
     "execution_count": 113,
     "metadata": {},
     "output_type": "execute_result"
    }
   ],
   "source": [
    "NB_classifier = Pipeline([('vect',TfidfVectorizer()), ('clf', BernoulliNB())])\n",
    "NB_classifier.set_params(**config)"
   ]
  },
  {
   "cell_type": "code",
   "execution_count": 114,
   "metadata": {},
   "outputs": [
    {
     "name": "stdout",
     "output_type": "stream",
     "text": [
      "              precision    recall  f1-score   support\n",
      "\n",
      "           1       0.49      0.26      0.34       142\n",
      "           2       0.31      0.14      0.19       204\n",
      "           3       0.24      0.15      0.18       282\n",
      "           4       0.43      0.44      0.43       721\n",
      "           5       0.44      0.63      0.52       651\n",
      "\n",
      "    accuracy                           0.42      2000\n",
      "   macro avg       0.38      0.32      0.33      2000\n",
      "weighted avg       0.40      0.42      0.40      2000\n",
      "\n"
     ]
    }
   ],
   "source": [
    "NB_classifier.fit(X_train, y_train)\n",
    "print(classification_report(y_test,NB_classifier.predict(X_test)))\n"
   ]
  },
  {
   "cell_type": "markdown",
   "metadata": {},
   "source": [
    "## increeased accuracy and weight average."
   ]
  },
  {
   "cell_type": "markdown",
   "metadata": {},
   "source": [
    "## Step 3: Hyperparameter Tuning"
   ]
  },
  {
   "cell_type": "markdown",
   "metadata": {},
   "source": [
    "In this problem we will be sequentially tuning a few of the parameters from the pipeline starting with a config of:\n",
    "```python\n",
    "config = {'vect__ngram_range': (1,1),\n",
    "          'vect__norm': 'l2',\n",
    "          'vect__lowercase': True,\n",
    "          'vect__use_idf': True,\n",
    "          'vect__min_df': 1,\n",
    "          'vect__stop_words': stp_wrds}\n",
    "```\n",
    "\n",
    "also add the following line prior to the return statement in `whole_pipeline()`:  \n",
    "```python\n",
    "print(f'Vocabulary size: {len(NB_classifier.named_steps.vect.vocabulary_):,}')\n",
    "```"
   ]
  },
  {
   "cell_type": "code",
   "execution_count": 115,
   "metadata": {},
   "outputs": [],
   "source": [
    "def most_informative(pipeline, n = 20):\n",
    "    vect, clf = pipeline.named_steps.vect, pipeline.named_steps.clf\n",
    "    feature_names = vect.get_feature_names_out()\n",
    "    most_inf = sorted(zip([clf.feature_log_prob_[1][i]-clf.feature_log_prob_[0][i] for i in range(len(clf.feature_log_prob_[0]))], feature_names))\n",
    "\n",
    "    print(\"Most Positive Features\")\n",
    "    for (coef_1, fn_1) in most_inf[:-(n + 1):-1]:\n",
    "        print(f'{coef_1:12f} {fn_1}')\n",
    "    print(\"Most Negative Features\")\n",
    "    for (coef_1, fn_1) in most_inf[:n]:\n",
    "        print(f'{coef_1:13f} {fn_1}')\n"
   ]
  },
  {
   "cell_type": "markdown",
   "metadata": {},
   "source": [
    "**a.)** Fit multiple models using a range of smoothing values, $\\alpha \\in [.01, .1, 1, 10, 100]$. Use the `whole_pipeline()` function and comment on the results of each.  Use the best parameter for answering parts **c** and **d**."
   ]
  },
  {
   "cell_type": "code",
   "execution_count": 138,
   "metadata": {},
   "outputs": [],
   "source": [
    "from sklearn.feature_extraction.text import TfidfTransformer\n",
    "from sklearn.feature_extraction.text import CountVectorizer\n",
    "from sklearn.pipeline import Pipeline"
   ]
  },
  {
   "cell_type": "code",
   "execution_count": 121,
   "metadata": {},
   "outputs": [
    {
     "name": "stderr",
     "output_type": "stream",
     "text": [
      "[nltk_data] Downloading package stopwords to\n",
      "[nltk_data]     C:\\Users\\showa\\AppData\\Roaming\\nltk_data...\n",
      "[nltk_data]   Package stopwords is already up-to-date!\n",
      "[nltk_data] Downloading package wordnet to\n",
      "[nltk_data]     C:\\Users\\showa\\AppData\\Roaming\\nltk_data...\n",
      "[nltk_data]   Unzipping corpora\\wordnet.zip.\n",
      "[nltk_data] Downloading package punkt to\n",
      "[nltk_data]     C:\\Users\\showa\\AppData\\Roaming\\nltk_data...\n",
      "[nltk_data]   Unzipping tokenizers\\punkt.zip.\n"
     ]
    },
    {
     "data": {
      "text/plain": [
       "True"
      ]
     },
     "execution_count": 121,
     "metadata": {},
     "output_type": "execute_result"
    }
   ],
   "source": [
    "import nltk\n",
    "nltk.download('stopwords')\n",
    "nltk.download('wordnet')\n",
    "nltk.download('punkt')"
   ]
  },
  {
   "cell_type": "code",
   "execution_count": 139,
   "metadata": {},
   "outputs": [
    {
     "name": "stdout",
     "output_type": "stream",
     "text": [
      "              precision    recall  f1-score   support\n",
      "\n",
      "           1       0.43      0.37      0.40       142\n",
      "           2       0.34      0.19      0.24       204\n",
      "           3       0.36      0.22      0.27       282\n",
      "           4       0.50      0.45      0.47       721\n",
      "           5       0.49      0.71      0.58       651\n",
      "\n",
      "    accuracy                           0.47      2000\n",
      "   macro avg       0.42      0.39      0.39      2000\n",
      "weighted avg       0.46      0.47      0.45      2000\n",
      "\n",
      "[[ 53  25  17  14  33]\n",
      " [ 36  38  37  43  50]\n",
      " [ 11  29  61 108  73]\n",
      " [ 15  16  40 326 324]\n",
      " [  8   4  13 163 463]]\n",
      "\n",
      "\n",
      "\n"
     ]
    },
    {
     "ename": "AttributeError",
     "evalue": "'TfidfVectorizer' object has no attribute 'get_feature_names_out'",
     "output_type": "error",
     "traceback": [
      "\u001b[1;31m---------------------------------------------------------------------------\u001b[0m",
      "\u001b[1;31mAttributeError\u001b[0m                            Traceback (most recent call last)",
      "\u001b[1;32m<ipython-input-139-3d094347330c>\u001b[0m in \u001b[0;36m<module>\u001b[1;34m\u001b[0m\n\u001b[0;32m     20\u001b[0m           'clf__alpha': .1}\n\u001b[0;32m     21\u001b[0m \u001b[1;33m\u001b[0m\u001b[0m\n\u001b[1;32m---> 22\u001b[1;33m \u001b[0mNB_classifier\u001b[0m \u001b[1;33m=\u001b[0m \u001b[0mwhole_pipeline\u001b[0m\u001b[1;33m(\u001b[0m\u001b[0mconfig\u001b[0m\u001b[1;33m)\u001b[0m\u001b[1;33m\u001b[0m\u001b[1;33m\u001b[0m\u001b[0m\n\u001b[0m",
      "\u001b[1;32m<ipython-input-139-3d094347330c>\u001b[0m in \u001b[0;36mwhole_pipeline\u001b[1;34m(config, clf)\u001b[0m\n\u001b[0;32m      6\u001b[0m     \u001b[0mprint\u001b[0m\u001b[1;33m(\u001b[0m\u001b[0mconfusion_matrix\u001b[0m\u001b[1;33m(\u001b[0m\u001b[0my_test\u001b[0m\u001b[1;33m,\u001b[0m \u001b[0mNB_classifier\u001b[0m\u001b[1;33m.\u001b[0m\u001b[0mpredict\u001b[0m\u001b[1;33m(\u001b[0m\u001b[0mX_test\u001b[0m\u001b[1;33m)\u001b[0m\u001b[1;33m)\u001b[0m\u001b[1;33m)\u001b[0m\u001b[1;33m\u001b[0m\u001b[1;33m\u001b[0m\u001b[0m\n\u001b[0;32m      7\u001b[0m     \u001b[0mprint\u001b[0m\u001b[1;33m(\u001b[0m\u001b[1;34m'\\n\\n'\u001b[0m\u001b[1;33m)\u001b[0m\u001b[1;33m\u001b[0m\u001b[1;33m\u001b[0m\u001b[0m\n\u001b[1;32m----> 8\u001b[1;33m     \u001b[0mmost_informative\u001b[0m\u001b[1;33m(\u001b[0m\u001b[0mNB_classifier\u001b[0m\u001b[1;33m,\u001b[0m \u001b[1;36m5\u001b[0m\u001b[1;33m)\u001b[0m\u001b[1;33m\u001b[0m\u001b[1;33m\u001b[0m\u001b[0m\n\u001b[0m\u001b[0;32m      9\u001b[0m     \u001b[1;32mreturn\u001b[0m \u001b[0mNB_classifier\u001b[0m\u001b[1;33m\u001b[0m\u001b[1;33m\u001b[0m\u001b[0m\n\u001b[0;32m     10\u001b[0m \u001b[1;33m\u001b[0m\u001b[0m\n",
      "\u001b[1;32m<ipython-input-115-d88296cd4ebb>\u001b[0m in \u001b[0;36mmost_informative\u001b[1;34m(pipeline, n)\u001b[0m\n\u001b[0;32m      1\u001b[0m \u001b[1;32mdef\u001b[0m \u001b[0mmost_informative\u001b[0m\u001b[1;33m(\u001b[0m\u001b[0mpipeline\u001b[0m\u001b[1;33m,\u001b[0m \u001b[0mn\u001b[0m \u001b[1;33m=\u001b[0m \u001b[1;36m20\u001b[0m\u001b[1;33m)\u001b[0m\u001b[1;33m:\u001b[0m\u001b[1;33m\u001b[0m\u001b[1;33m\u001b[0m\u001b[0m\n\u001b[0;32m      2\u001b[0m     \u001b[0mvect\u001b[0m\u001b[1;33m,\u001b[0m \u001b[0mclf\u001b[0m \u001b[1;33m=\u001b[0m \u001b[0mpipeline\u001b[0m\u001b[1;33m.\u001b[0m\u001b[0mnamed_steps\u001b[0m\u001b[1;33m.\u001b[0m\u001b[0mvect\u001b[0m\u001b[1;33m,\u001b[0m \u001b[0mpipeline\u001b[0m\u001b[1;33m.\u001b[0m\u001b[0mnamed_steps\u001b[0m\u001b[1;33m.\u001b[0m\u001b[0mclf\u001b[0m\u001b[1;33m\u001b[0m\u001b[1;33m\u001b[0m\u001b[0m\n\u001b[1;32m----> 3\u001b[1;33m     \u001b[0mfeature_names\u001b[0m \u001b[1;33m=\u001b[0m \u001b[0mvect\u001b[0m\u001b[1;33m.\u001b[0m\u001b[0mget_feature_names_out\u001b[0m\u001b[1;33m(\u001b[0m\u001b[1;33m)\u001b[0m\u001b[1;33m\u001b[0m\u001b[1;33m\u001b[0m\u001b[0m\n\u001b[0m\u001b[0;32m      4\u001b[0m     \u001b[0mmost_inf\u001b[0m \u001b[1;33m=\u001b[0m \u001b[0msorted\u001b[0m\u001b[1;33m(\u001b[0m\u001b[0mzip\u001b[0m\u001b[1;33m(\u001b[0m\u001b[1;33m[\u001b[0m\u001b[0mclf\u001b[0m\u001b[1;33m.\u001b[0m\u001b[0mfeature_log_prob_\u001b[0m\u001b[1;33m[\u001b[0m\u001b[1;36m1\u001b[0m\u001b[1;33m]\u001b[0m\u001b[1;33m[\u001b[0m\u001b[0mi\u001b[0m\u001b[1;33m]\u001b[0m\u001b[1;33m-\u001b[0m\u001b[0mclf\u001b[0m\u001b[1;33m.\u001b[0m\u001b[0mfeature_log_prob_\u001b[0m\u001b[1;33m[\u001b[0m\u001b[1;36m0\u001b[0m\u001b[1;33m]\u001b[0m\u001b[1;33m[\u001b[0m\u001b[0mi\u001b[0m\u001b[1;33m]\u001b[0m \u001b[1;32mfor\u001b[0m \u001b[0mi\u001b[0m \u001b[1;32min\u001b[0m \u001b[0mrange\u001b[0m\u001b[1;33m(\u001b[0m\u001b[0mlen\u001b[0m\u001b[1;33m(\u001b[0m\u001b[0mclf\u001b[0m\u001b[1;33m.\u001b[0m\u001b[0mfeature_log_prob_\u001b[0m\u001b[1;33m[\u001b[0m\u001b[1;36m0\u001b[0m\u001b[1;33m]\u001b[0m\u001b[1;33m)\u001b[0m\u001b[1;33m)\u001b[0m\u001b[1;33m]\u001b[0m\u001b[1;33m,\u001b[0m \u001b[0mfeature_names\u001b[0m\u001b[1;33m)\u001b[0m\u001b[1;33m)\u001b[0m\u001b[1;33m\u001b[0m\u001b[1;33m\u001b[0m\u001b[0m\n\u001b[0;32m      5\u001b[0m \u001b[1;33m\u001b[0m\u001b[0m\n",
      "\u001b[1;31mAttributeError\u001b[0m: 'TfidfVectorizer' object has no attribute 'get_feature_names_out'"
     ]
    }
   ],
   "source": [
    "\n",
    "def whole_pipeline(config, clf = BernoulliNB()):\n",
    "    NB_classifier = Pipeline([('vect',TfidfVectorizer()), ('clf', clf)])\n",
    "    NB_classifier.set_params(**config)\n",
    "    NB_classifier.fit(X_train, y_train)\n",
    "    print(classification_report(y_test, NB_classifier.predict(X_test)))\n",
    "    print(confusion_matrix(y_test, NB_classifier.predict(X_test)))\n",
    "    print('\\n\\n')\n",
    "    most_informative(NB_classifier, 5)\n",
    "    return NB_classifier\n",
    "\n",
    "stp_wrds = stopwords.words('english')\n",
    "config = {'vect__ngram_range': (1,2),\n",
    "          'vect__norm': None,\n",
    "          'vect__lowercase': True,\n",
    "          'vect__use_idf': False,\n",
    "          'vect__preprocessor': lambda x: clean(x, lower = True),\n",
    "          'vect__stop_words': stp_wrds,\n",
    "          'vect__min_df': 3,\n",
    "          'vect__max_df': .7,\n",
    "          'clf__alpha': .1}\n",
    "\n",
    "NB_classifier = whole_pipeline(config)\n"
   ]
  },
  {
   "cell_type": "markdown",
   "metadata": {},
   "source": [
    "**b.)** For $\\alpha \\in [.01, 100]$ create histograms of the word coefficients (see suplemental material for an example). Comments on the distributions."
   ]
  },
  {
   "cell_type": "code",
   "execution_count": 131,
   "metadata": {},
   "outputs": [
    {
     "name": "stdout",
     "output_type": "stream",
     "text": [
      "Collecting plotly\n",
      "  Downloading plotly-5.4.0-py2.py3-none-any.whl (25.3 MB)\n",
      "Requirement already satisfied: six in c:\\users\\showa\\anaconda3\\lib\\site-packages (from plotly) (1.15.0)\n",
      "Collecting tenacity>=6.2.0\n",
      "  Downloading tenacity-8.0.1-py3-none-any.whl (24 kB)\n",
      "Installing collected packages: tenacity, plotly\n",
      "Successfully installed plotly-5.4.0 tenacity-8.0.1\n"
     ]
    }
   ],
   "source": [
    "#!pip install plotly"
   ]
  },
  {
   "cell_type": "code",
   "execution_count": 140,
   "metadata": {},
   "outputs": [],
   "source": [
    "import plotly.express as px\n",
    "\n",
    "def make_hist(pipeline):\n",
    "    vect, clf = pipeline.named_steps.vect, pipeline.named_steps.clf\n",
    "    feature_names = vect.get_feature_names_out()\n",
    "    most_inf = sorted(zip([clf.feature_log_prob_[1][i]-clf.feature_log_prob_[0][i] for i in range(len(clf.feature_log_prob_[0]))], feature_names))\n",
    "\n",
    "    df = pd.DataFrame({'word':[x[1] for x in most_inf], 'log_prob':[x[0] for x in most_inf]})\n",
    "    fig = px.histogram(df, x = 'prob', marginal=\"rug\", hover_data =['word'])\n",
    "    fig.show()\n"
   ]
  },
  {
   "cell_type": "code",
   "execution_count": 141,
   "metadata": {},
   "outputs": [
    {
     "ename": "AttributeError",
     "evalue": "'TfidfVectorizer' object has no attribute 'get_feature_names_out'",
     "output_type": "error",
     "traceback": [
      "\u001b[1;31m---------------------------------------------------------------------------\u001b[0m",
      "\u001b[1;31mAttributeError\u001b[0m                            Traceback (most recent call last)",
      "\u001b[1;32m<ipython-input-141-22ac2c8820ad>\u001b[0m in \u001b[0;36m<module>\u001b[1;34m\u001b[0m\n\u001b[1;32m----> 1\u001b[1;33m \u001b[0mmake_hist\u001b[0m\u001b[1;33m(\u001b[0m\u001b[0mNB_classifier\u001b[0m\u001b[1;33m)\u001b[0m\u001b[1;33m\u001b[0m\u001b[1;33m\u001b[0m\u001b[0m\n\u001b[0m",
      "\u001b[1;32m<ipython-input-140-031f1d1368cf>\u001b[0m in \u001b[0;36mmake_hist\u001b[1;34m(pipeline)\u001b[0m\n\u001b[0;32m      3\u001b[0m \u001b[1;32mdef\u001b[0m \u001b[0mmake_hist\u001b[0m\u001b[1;33m(\u001b[0m\u001b[0mpipeline\u001b[0m\u001b[1;33m)\u001b[0m\u001b[1;33m:\u001b[0m\u001b[1;33m\u001b[0m\u001b[1;33m\u001b[0m\u001b[0m\n\u001b[0;32m      4\u001b[0m     \u001b[0mvect\u001b[0m\u001b[1;33m,\u001b[0m \u001b[0mclf\u001b[0m \u001b[1;33m=\u001b[0m \u001b[0mpipeline\u001b[0m\u001b[1;33m.\u001b[0m\u001b[0mnamed_steps\u001b[0m\u001b[1;33m.\u001b[0m\u001b[0mvect\u001b[0m\u001b[1;33m,\u001b[0m \u001b[0mpipeline\u001b[0m\u001b[1;33m.\u001b[0m\u001b[0mnamed_steps\u001b[0m\u001b[1;33m.\u001b[0m\u001b[0mclf\u001b[0m\u001b[1;33m\u001b[0m\u001b[1;33m\u001b[0m\u001b[0m\n\u001b[1;32m----> 5\u001b[1;33m     \u001b[0mfeature_names\u001b[0m \u001b[1;33m=\u001b[0m \u001b[0mvect\u001b[0m\u001b[1;33m.\u001b[0m\u001b[0mget_feature_names_out\u001b[0m\u001b[1;33m(\u001b[0m\u001b[1;33m)\u001b[0m\u001b[1;33m\u001b[0m\u001b[1;33m\u001b[0m\u001b[0m\n\u001b[0m\u001b[0;32m      6\u001b[0m     \u001b[0mmost_inf\u001b[0m \u001b[1;33m=\u001b[0m \u001b[0msorted\u001b[0m\u001b[1;33m(\u001b[0m\u001b[0mzip\u001b[0m\u001b[1;33m(\u001b[0m\u001b[1;33m[\u001b[0m\u001b[0mclf\u001b[0m\u001b[1;33m.\u001b[0m\u001b[0mfeature_log_prob_\u001b[0m\u001b[1;33m[\u001b[0m\u001b[1;36m1\u001b[0m\u001b[1;33m]\u001b[0m\u001b[1;33m[\u001b[0m\u001b[0mi\u001b[0m\u001b[1;33m]\u001b[0m\u001b[1;33m-\u001b[0m\u001b[0mclf\u001b[0m\u001b[1;33m.\u001b[0m\u001b[0mfeature_log_prob_\u001b[0m\u001b[1;33m[\u001b[0m\u001b[1;36m0\u001b[0m\u001b[1;33m]\u001b[0m\u001b[1;33m[\u001b[0m\u001b[0mi\u001b[0m\u001b[1;33m]\u001b[0m \u001b[1;32mfor\u001b[0m \u001b[0mi\u001b[0m \u001b[1;32min\u001b[0m \u001b[0mrange\u001b[0m\u001b[1;33m(\u001b[0m\u001b[0mlen\u001b[0m\u001b[1;33m(\u001b[0m\u001b[0mclf\u001b[0m\u001b[1;33m.\u001b[0m\u001b[0mfeature_log_prob_\u001b[0m\u001b[1;33m[\u001b[0m\u001b[1;36m0\u001b[0m\u001b[1;33m]\u001b[0m\u001b[1;33m)\u001b[0m\u001b[1;33m)\u001b[0m\u001b[1;33m]\u001b[0m\u001b[1;33m,\u001b[0m \u001b[0mfeature_names\u001b[0m\u001b[1;33m)\u001b[0m\u001b[1;33m)\u001b[0m\u001b[1;33m\u001b[0m\u001b[1;33m\u001b[0m\u001b[0m\n\u001b[0;32m      7\u001b[0m \u001b[1;33m\u001b[0m\u001b[0m\n",
      "\u001b[1;31mAttributeError\u001b[0m: 'TfidfVectorizer' object has no attribute 'get_feature_names_out'"
     ]
    }
   ],
   "source": [
    "make_hist(NB_classifier)"
   ]
  },
  {
   "cell_type": "markdown",
   "metadata": {},
   "source": [
    "**c.)** Try each combination of **vect__min_df** $\\in [1,3,5]$ and **vect__ngram_range** $\\in [(1,1), (1,2)]$. Comment on changes in accuracy and vocabulary size."
   ]
  },
  {
   "cell_type": "code",
   "execution_count": 142,
   "metadata": {},
   "outputs": [
    {
     "name": "stdout",
     "output_type": "stream",
     "text": [
      "              precision    recall  f1-score   support\n",
      "\n",
      "           1       0.48      0.32      0.39       142\n",
      "           2       0.34      0.15      0.20       204\n",
      "           3       0.28      0.18      0.22       282\n",
      "           4       0.44      0.44      0.44       721\n",
      "           5       0.46      0.65      0.54       651\n",
      "\n",
      "    accuracy                           0.43      2000\n",
      "   macro avg       0.40      0.35      0.36      2000\n",
      "weighted avg       0.42      0.43      0.42      2000\n",
      "\n",
      "[[ 46  24  19  17  36]\n",
      " [ 27  30  41  52  54]\n",
      " [  7  19  52 129  75]\n",
      " [ 12  10  58 317 324]\n",
      " [  4   6  17 199 425]]\n",
      "\n",
      "\n",
      "\n"
     ]
    },
    {
     "ename": "AttributeError",
     "evalue": "'TfidfVectorizer' object has no attribute 'get_feature_names_out'",
     "output_type": "error",
     "traceback": [
      "\u001b[1;31m---------------------------------------------------------------------------\u001b[0m",
      "\u001b[1;31mAttributeError\u001b[0m                            Traceback (most recent call last)",
      "\u001b[1;32m<ipython-input-142-77921d685cff>\u001b[0m in \u001b[0;36m<module>\u001b[1;34m\u001b[0m\n\u001b[0;32m      7\u001b[0m               \u001b[1;34m'vect__stop_words'\u001b[0m\u001b[1;33m:\u001b[0m \u001b[0mstp_wrds\u001b[0m\u001b[1;33m,\u001b[0m\u001b[1;33m\u001b[0m\u001b[1;33m\u001b[0m\u001b[0m\n\u001b[0;32m      8\u001b[0m               'clf__alpha':0.01 }\n\u001b[1;32m----> 9\u001b[1;33m   \u001b[0mNB_classifier\u001b[0m \u001b[1;33m=\u001b[0m \u001b[0mwhole_pipeline\u001b[0m\u001b[1;33m(\u001b[0m\u001b[0mconfig\u001b[0m\u001b[1;33m)\u001b[0m\u001b[1;33m\u001b[0m\u001b[1;33m\u001b[0m\u001b[0m\n\u001b[0m",
      "\u001b[1;32m<ipython-input-139-3d094347330c>\u001b[0m in \u001b[0;36mwhole_pipeline\u001b[1;34m(config, clf)\u001b[0m\n\u001b[0;32m      6\u001b[0m     \u001b[0mprint\u001b[0m\u001b[1;33m(\u001b[0m\u001b[0mconfusion_matrix\u001b[0m\u001b[1;33m(\u001b[0m\u001b[0my_test\u001b[0m\u001b[1;33m,\u001b[0m \u001b[0mNB_classifier\u001b[0m\u001b[1;33m.\u001b[0m\u001b[0mpredict\u001b[0m\u001b[1;33m(\u001b[0m\u001b[0mX_test\u001b[0m\u001b[1;33m)\u001b[0m\u001b[1;33m)\u001b[0m\u001b[1;33m)\u001b[0m\u001b[1;33m\u001b[0m\u001b[1;33m\u001b[0m\u001b[0m\n\u001b[0;32m      7\u001b[0m     \u001b[0mprint\u001b[0m\u001b[1;33m(\u001b[0m\u001b[1;34m'\\n\\n'\u001b[0m\u001b[1;33m)\u001b[0m\u001b[1;33m\u001b[0m\u001b[1;33m\u001b[0m\u001b[0m\n\u001b[1;32m----> 8\u001b[1;33m     \u001b[0mmost_informative\u001b[0m\u001b[1;33m(\u001b[0m\u001b[0mNB_classifier\u001b[0m\u001b[1;33m,\u001b[0m \u001b[1;36m5\u001b[0m\u001b[1;33m)\u001b[0m\u001b[1;33m\u001b[0m\u001b[1;33m\u001b[0m\u001b[0m\n\u001b[0m\u001b[0;32m      9\u001b[0m     \u001b[1;32mreturn\u001b[0m \u001b[0mNB_classifier\u001b[0m\u001b[1;33m\u001b[0m\u001b[1;33m\u001b[0m\u001b[0m\n\u001b[0;32m     10\u001b[0m \u001b[1;33m\u001b[0m\u001b[0m\n",
      "\u001b[1;32m<ipython-input-115-d88296cd4ebb>\u001b[0m in \u001b[0;36mmost_informative\u001b[1;34m(pipeline, n)\u001b[0m\n\u001b[0;32m      1\u001b[0m \u001b[1;32mdef\u001b[0m \u001b[0mmost_informative\u001b[0m\u001b[1;33m(\u001b[0m\u001b[0mpipeline\u001b[0m\u001b[1;33m,\u001b[0m \u001b[0mn\u001b[0m \u001b[1;33m=\u001b[0m \u001b[1;36m20\u001b[0m\u001b[1;33m)\u001b[0m\u001b[1;33m:\u001b[0m\u001b[1;33m\u001b[0m\u001b[1;33m\u001b[0m\u001b[0m\n\u001b[0;32m      2\u001b[0m     \u001b[0mvect\u001b[0m\u001b[1;33m,\u001b[0m \u001b[0mclf\u001b[0m \u001b[1;33m=\u001b[0m \u001b[0mpipeline\u001b[0m\u001b[1;33m.\u001b[0m\u001b[0mnamed_steps\u001b[0m\u001b[1;33m.\u001b[0m\u001b[0mvect\u001b[0m\u001b[1;33m,\u001b[0m \u001b[0mpipeline\u001b[0m\u001b[1;33m.\u001b[0m\u001b[0mnamed_steps\u001b[0m\u001b[1;33m.\u001b[0m\u001b[0mclf\u001b[0m\u001b[1;33m\u001b[0m\u001b[1;33m\u001b[0m\u001b[0m\n\u001b[1;32m----> 3\u001b[1;33m     \u001b[0mfeature_names\u001b[0m \u001b[1;33m=\u001b[0m \u001b[0mvect\u001b[0m\u001b[1;33m.\u001b[0m\u001b[0mget_feature_names_out\u001b[0m\u001b[1;33m(\u001b[0m\u001b[1;33m)\u001b[0m\u001b[1;33m\u001b[0m\u001b[1;33m\u001b[0m\u001b[0m\n\u001b[0m\u001b[0;32m      4\u001b[0m     \u001b[0mmost_inf\u001b[0m \u001b[1;33m=\u001b[0m \u001b[0msorted\u001b[0m\u001b[1;33m(\u001b[0m\u001b[0mzip\u001b[0m\u001b[1;33m(\u001b[0m\u001b[1;33m[\u001b[0m\u001b[0mclf\u001b[0m\u001b[1;33m.\u001b[0m\u001b[0mfeature_log_prob_\u001b[0m\u001b[1;33m[\u001b[0m\u001b[1;36m1\u001b[0m\u001b[1;33m]\u001b[0m\u001b[1;33m[\u001b[0m\u001b[0mi\u001b[0m\u001b[1;33m]\u001b[0m\u001b[1;33m-\u001b[0m\u001b[0mclf\u001b[0m\u001b[1;33m.\u001b[0m\u001b[0mfeature_log_prob_\u001b[0m\u001b[1;33m[\u001b[0m\u001b[1;36m0\u001b[0m\u001b[1;33m]\u001b[0m\u001b[1;33m[\u001b[0m\u001b[0mi\u001b[0m\u001b[1;33m]\u001b[0m \u001b[1;32mfor\u001b[0m \u001b[0mi\u001b[0m \u001b[1;32min\u001b[0m \u001b[0mrange\u001b[0m\u001b[1;33m(\u001b[0m\u001b[0mlen\u001b[0m\u001b[1;33m(\u001b[0m\u001b[0mclf\u001b[0m\u001b[1;33m.\u001b[0m\u001b[0mfeature_log_prob_\u001b[0m\u001b[1;33m[\u001b[0m\u001b[1;36m0\u001b[0m\u001b[1;33m]\u001b[0m\u001b[1;33m)\u001b[0m\u001b[1;33m)\u001b[0m\u001b[1;33m]\u001b[0m\u001b[1;33m,\u001b[0m \u001b[0mfeature_names\u001b[0m\u001b[1;33m)\u001b[0m\u001b[1;33m)\u001b[0m\u001b[1;33m\u001b[0m\u001b[1;33m\u001b[0m\u001b[0m\n\u001b[0;32m      5\u001b[0m \u001b[1;33m\u001b[0m\u001b[0m\n",
      "\u001b[1;31mAttributeError\u001b[0m: 'TfidfVectorizer' object has no attribute 'get_feature_names_out'"
     ]
    }
   ],
   "source": [
    "for x in [1,3,5]:\n",
    "  config = {'vect__ngram_range': (1,1),\n",
    "              'vect__norm': 'l2',\n",
    "              'vect__lowercase': False,\n",
    "              'vect__use_idf': True,\n",
    "              'vect__min_df': x,\n",
    "              'vect__stop_words': stp_wrds,\n",
    "              'clf__alpha':0.01 }\n",
    "  NB_classifier = whole_pipeline(config)"
   ]
  },
  {
   "cell_type": "code",
   "execution_count": 143,
   "metadata": {},
   "outputs": [
    {
     "name": "stdout",
     "output_type": "stream",
     "text": [
      "              precision    recall  f1-score   support\n",
      "\n",
      "           1       0.64      0.20      0.30       142\n",
      "           2       0.38      0.07      0.12       204\n",
      "           3       0.34      0.12      0.17       282\n",
      "           4       0.42      0.48      0.45       721\n",
      "           5       0.44      0.69      0.54       651\n",
      "\n",
      "    accuracy                           0.43      2000\n",
      "   macro avg       0.44      0.31      0.32      2000\n",
      "weighted avg       0.43      0.43      0.39      2000\n",
      "\n",
      "[[ 28  14  10  36  54]\n",
      " [ 12  14  28  84  66]\n",
      " [  2   8  33 149  90]\n",
      " [  2   1  22 343 353]\n",
      " [  0   0   5 200 446]]\n",
      "\n",
      "\n",
      "\n"
     ]
    },
    {
     "ename": "AttributeError",
     "evalue": "'TfidfVectorizer' object has no attribute 'get_feature_names_out'",
     "output_type": "error",
     "traceback": [
      "\u001b[1;31m---------------------------------------------------------------------------\u001b[0m",
      "\u001b[1;31mAttributeError\u001b[0m                            Traceback (most recent call last)",
      "\u001b[1;32m<ipython-input-143-14aaba73308f>\u001b[0m in \u001b[0;36m<module>\u001b[1;34m\u001b[0m\n\u001b[0;32m      7\u001b[0m               \u001b[1;34m'vect__stop_words'\u001b[0m\u001b[1;33m:\u001b[0m \u001b[0mstp_wrds\u001b[0m\u001b[1;33m,\u001b[0m\u001b[1;33m\u001b[0m\u001b[1;33m\u001b[0m\u001b[0m\n\u001b[0;32m      8\u001b[0m               'clf__alpha':0.01 }\n\u001b[1;32m----> 9\u001b[1;33m   \u001b[0mNB_classifier\u001b[0m \u001b[1;33m=\u001b[0m \u001b[0mwhole_pipeline\u001b[0m\u001b[1;33m(\u001b[0m\u001b[0mconfig\u001b[0m\u001b[1;33m)\u001b[0m\u001b[1;33m\u001b[0m\u001b[1;33m\u001b[0m\u001b[0m\n\u001b[0m",
      "\u001b[1;32m<ipython-input-139-3d094347330c>\u001b[0m in \u001b[0;36mwhole_pipeline\u001b[1;34m(config, clf)\u001b[0m\n\u001b[0;32m      6\u001b[0m     \u001b[0mprint\u001b[0m\u001b[1;33m(\u001b[0m\u001b[0mconfusion_matrix\u001b[0m\u001b[1;33m(\u001b[0m\u001b[0my_test\u001b[0m\u001b[1;33m,\u001b[0m \u001b[0mNB_classifier\u001b[0m\u001b[1;33m.\u001b[0m\u001b[0mpredict\u001b[0m\u001b[1;33m(\u001b[0m\u001b[0mX_test\u001b[0m\u001b[1;33m)\u001b[0m\u001b[1;33m)\u001b[0m\u001b[1;33m)\u001b[0m\u001b[1;33m\u001b[0m\u001b[1;33m\u001b[0m\u001b[0m\n\u001b[0;32m      7\u001b[0m     \u001b[0mprint\u001b[0m\u001b[1;33m(\u001b[0m\u001b[1;34m'\\n\\n'\u001b[0m\u001b[1;33m)\u001b[0m\u001b[1;33m\u001b[0m\u001b[1;33m\u001b[0m\u001b[0m\n\u001b[1;32m----> 8\u001b[1;33m     \u001b[0mmost_informative\u001b[0m\u001b[1;33m(\u001b[0m\u001b[0mNB_classifier\u001b[0m\u001b[1;33m,\u001b[0m \u001b[1;36m5\u001b[0m\u001b[1;33m)\u001b[0m\u001b[1;33m\u001b[0m\u001b[1;33m\u001b[0m\u001b[0m\n\u001b[0m\u001b[0;32m      9\u001b[0m     \u001b[1;32mreturn\u001b[0m \u001b[0mNB_classifier\u001b[0m\u001b[1;33m\u001b[0m\u001b[1;33m\u001b[0m\u001b[0m\n\u001b[0;32m     10\u001b[0m \u001b[1;33m\u001b[0m\u001b[0m\n",
      "\u001b[1;32m<ipython-input-115-d88296cd4ebb>\u001b[0m in \u001b[0;36mmost_informative\u001b[1;34m(pipeline, n)\u001b[0m\n\u001b[0;32m      1\u001b[0m \u001b[1;32mdef\u001b[0m \u001b[0mmost_informative\u001b[0m\u001b[1;33m(\u001b[0m\u001b[0mpipeline\u001b[0m\u001b[1;33m,\u001b[0m \u001b[0mn\u001b[0m \u001b[1;33m=\u001b[0m \u001b[1;36m20\u001b[0m\u001b[1;33m)\u001b[0m\u001b[1;33m:\u001b[0m\u001b[1;33m\u001b[0m\u001b[1;33m\u001b[0m\u001b[0m\n\u001b[0;32m      2\u001b[0m     \u001b[0mvect\u001b[0m\u001b[1;33m,\u001b[0m \u001b[0mclf\u001b[0m \u001b[1;33m=\u001b[0m \u001b[0mpipeline\u001b[0m\u001b[1;33m.\u001b[0m\u001b[0mnamed_steps\u001b[0m\u001b[1;33m.\u001b[0m\u001b[0mvect\u001b[0m\u001b[1;33m,\u001b[0m \u001b[0mpipeline\u001b[0m\u001b[1;33m.\u001b[0m\u001b[0mnamed_steps\u001b[0m\u001b[1;33m.\u001b[0m\u001b[0mclf\u001b[0m\u001b[1;33m\u001b[0m\u001b[1;33m\u001b[0m\u001b[0m\n\u001b[1;32m----> 3\u001b[1;33m     \u001b[0mfeature_names\u001b[0m \u001b[1;33m=\u001b[0m \u001b[0mvect\u001b[0m\u001b[1;33m.\u001b[0m\u001b[0mget_feature_names_out\u001b[0m\u001b[1;33m(\u001b[0m\u001b[1;33m)\u001b[0m\u001b[1;33m\u001b[0m\u001b[1;33m\u001b[0m\u001b[0m\n\u001b[0m\u001b[0;32m      4\u001b[0m     \u001b[0mmost_inf\u001b[0m \u001b[1;33m=\u001b[0m \u001b[0msorted\u001b[0m\u001b[1;33m(\u001b[0m\u001b[0mzip\u001b[0m\u001b[1;33m(\u001b[0m\u001b[1;33m[\u001b[0m\u001b[0mclf\u001b[0m\u001b[1;33m.\u001b[0m\u001b[0mfeature_log_prob_\u001b[0m\u001b[1;33m[\u001b[0m\u001b[1;36m1\u001b[0m\u001b[1;33m]\u001b[0m\u001b[1;33m[\u001b[0m\u001b[0mi\u001b[0m\u001b[1;33m]\u001b[0m\u001b[1;33m-\u001b[0m\u001b[0mclf\u001b[0m\u001b[1;33m.\u001b[0m\u001b[0mfeature_log_prob_\u001b[0m\u001b[1;33m[\u001b[0m\u001b[1;36m0\u001b[0m\u001b[1;33m]\u001b[0m\u001b[1;33m[\u001b[0m\u001b[0mi\u001b[0m\u001b[1;33m]\u001b[0m \u001b[1;32mfor\u001b[0m \u001b[0mi\u001b[0m \u001b[1;32min\u001b[0m \u001b[0mrange\u001b[0m\u001b[1;33m(\u001b[0m\u001b[0mlen\u001b[0m\u001b[1;33m(\u001b[0m\u001b[0mclf\u001b[0m\u001b[1;33m.\u001b[0m\u001b[0mfeature_log_prob_\u001b[0m\u001b[1;33m[\u001b[0m\u001b[1;36m0\u001b[0m\u001b[1;33m]\u001b[0m\u001b[1;33m)\u001b[0m\u001b[1;33m)\u001b[0m\u001b[1;33m]\u001b[0m\u001b[1;33m,\u001b[0m \u001b[0mfeature_names\u001b[0m\u001b[1;33m)\u001b[0m\u001b[1;33m)\u001b[0m\u001b[1;33m\u001b[0m\u001b[1;33m\u001b[0m\u001b[0m\n\u001b[0;32m      5\u001b[0m \u001b[1;33m\u001b[0m\u001b[0m\n",
      "\u001b[1;31mAttributeError\u001b[0m: 'TfidfVectorizer' object has no attribute 'get_feature_names_out'"
     ]
    }
   ],
   "source": [
    "for x in [1,3,5]:\n",
    "  config = {'vect__ngram_range': (1,2),\n",
    "              'vect__norm': 'l2',\n",
    "              'vect__lowercase': False,\n",
    "              'vect__use_idf': True,\n",
    "              'vect__min_df': x,\n",
    "              'vect__stop_words': stp_wrds,\n",
    "              'clf__alpha':0.01 }\n",
    "  NB_classifier = whole_pipeline(config)"
   ]
  },
  {
   "cell_type": "markdown",
   "metadata": {},
   "source": [
    "## Step 4: Walk through an Example\n",
    "Choose a mislabeled sentence from the test set with at least 7 tokens. Find the coefficients of the terms within the sentence. Comment on why the sentence was mislabeled."
   ]
  },
  {
   "cell_type": "code",
   "execution_count": null,
   "metadata": {},
   "outputs": [],
   "source": [
    "from sklearn.metrics import accuracy_score, classification_report\n",
    "from sklearn.naive_bayes import MultinomialNB\n",
    "from sklearn.model_selection import train_test_split\n",
    "from sklearn.feature_extraction.text import CountVectorizer\n",
    "X = df['clean_text']\n",
    "y = df['stars']\n",
    "cv = CountVectorizer()\n",
    "X = cv.fit_transform(X)\n",
    "X_train, X_test, y_train, y_test = train_test_split(X, y, test_size=0.2, random_state=123)\n",
    "clf = MultinomialNB()\n",
    "clf.fit(X, y)\n",
    "y_test_pred = clf.predict(X_test) \n",
    "\n"
   ]
  },
  {
   "cell_type": "code",
   "execution_count": null,
   "metadata": {},
   "outputs": [],
   "source": [
    "ds={\n",
    "    'truth':y_test,\n",
    "    'pred':y_test_pred\n",
    "}\n",
    "dset=pd.DataFrame(ds)\n",
    "dset\n"
   ]
  },
  {
   "cell_type": "code",
   "execution_count": null,
   "metadata": {},
   "outputs": [],
   "source": [
    "import nltk.tokenize as nt\n",
    "import nltk\n",
    "text=df['clean_text'][332]\n",
    "ss=nt.sent_tokenize(text)\n",
    "tokenized_sent=[nt.word_tokenize(sent) for sent in ss]\n",
    "pos_sentences=[nltk.pos_tag(sent) for sent in tokenized_sent]\n",
    "pos_sentences"
   ]
  }
 ],
 "metadata": {
  "kernelspec": {
   "display_name": "Python 3",
   "language": "python",
   "name": "python3"
  },
  "language_info": {
   "codemirror_mode": {
    "name": "ipython",
    "version": 3
   },
   "file_extension": ".py",
   "mimetype": "text/x-python",
   "name": "python",
   "nbconvert_exporter": "python",
   "pygments_lexer": "ipython3",
   "version": "3.8.8"
  }
 },
 "nbformat": 4,
 "nbformat_minor": 2
}
