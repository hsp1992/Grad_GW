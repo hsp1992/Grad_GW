{
 "cells": [
  {
   "cell_type": "markdown",
   "id": "e0150eca",
   "metadata": {},
   "source": [
    "# A Producction Planning Problem\n",
    "A rice producing firm is planning the production for the next 4 months. A warehouse is available\n",
    "to stock rice each month. The maximum storage capacity of the warehouse is 100 tons of rice.\n",
    "Each ton of rice in stock at the end of any month costs $5. On month i, it is possible to produce\n",
    "at most pi tons of rice at cost ci per ton. On month i, an extra production of qi tons of rice is\n",
    "possible at extra cost: Each ton of rice produced in excess of pi in month i has an additional cost\n",
    "of ei. The firm has contracted to provide ditons of rice on each month i. The warehouse is empty\n",
    "at the beginning of the first month, and must be empty at the end of the last month. The regular\n",
    "(non‐extra) production in each month must be at last 10% of the total production of the first\n",
    "three months (balanced production). Table 1 provides the production data for the 4 months.\n"
   ]
  },
  {
   "cell_type": "code",
   "execution_count": 30,
   "id": "7cf7f373",
   "metadata": {},
   "outputs": [],
   "source": [
    "import gurobipy as gp\n",
    "from gurobipy import GRB\n",
    "import pandas as pd\n",
    "from collections import OrderedDict\n"
   ]
  },
  {
   "cell_type": "markdown",
   "id": "62589b52",
   "metadata": {},
   "source": [
    "# model"
   ]
  },
  {
   "cell_type": "code",
   "execution_count": 39,
   "id": "36c159fd",
   "metadata": {
    "scrolled": false
   },
   "outputs": [
    {
     "name": "stdout",
     "output_type": "stream",
     "text": [
      "Gurobi Optimizer version 9.1.2 build v9.1.2rc0 (win64)\n",
      "Thread count: 6 physical cores, 12 logical processors, using up to 12 threads\n",
      "Optimize a model with 26 rows, 8 columns and 70 nonzeros\n",
      "Model fingerprint: 0x8719b070\n",
      "Coefficient statistics:\n",
      "  Matrix range     [1e-01, 1e+00]\n",
      "  Objective range  [4e+02, 7e+02]\n",
      "  Bounds range     [0e+00, 0e+00]\n",
      "  RHS range        [5e+01, 9e+02]\n",
      "Presolve removed 26 rows and 8 columns\n",
      "Presolve time: 0.00s\n",
      "Presolve: All rows and columns removed\n",
      "Iteration    Objective       Primal Inf.    Dual Inf.      Time\n",
      "       0    3.9317500e+05   0.000000e+00   0.000000e+00      0s\n",
      "\n",
      "Solved in 0 iterations and 0.01 seconds\n",
      "Optimal objective  3.931750000e+05\n"
     ]
    }
   ],
   "source": [
    "# model : Production Planning Problem\n",
    "m = gp.Model(\"PPP\")\n",
    "\n",
    "# create decision variables\n",
    "r1 = m.addVar(name =\"first_month_regular\")\n",
    "r2 = m.addVar(name =\"second_month_regular\")\n",
    "r3 = m.addVar(name =\"third_month_regular\")\n",
    "r4 = m.addVar(name =\"fourth_month_regular\")\n",
    "ep1 = m.addVar(name =\"first_month_extra\")\n",
    "ep2 = m.addVar(name =\"second_month_extra\")\n",
    "ep3 = m.addVar(name =\"third_month_extra\")\n",
    "ep4 = m.addVar(name =\"fourth_month_extra\")\n",
    "\n",
    "# total production\n",
    "prod_m1 = r1+ep1\n",
    "prod_m2 = r2+ep2\n",
    "prod_m3 = r3+ep3\n",
    "prod_m4 = r4+ep4\n",
    "\n",
    "# Storage\n",
    "stor_m1 = prod_m1-120\n",
    "stor_m2 = prod_m2+(stor_m1)-160\n",
    "stor_m3 = prod_m3+(stor_m2)-300\n",
    "stor_m4 = prod_m4+(stor_m3)-200\n",
    "    \n",
    "# Storage total cost\n",
    "# sum ( each month storage * $5)\n",
    "stor_total_cost = (stor_m1 * 5) + (stor_m2 * 5) + (stor_m3 * 5) + (stor_m4 * 5)\n",
    "\n",
    "# Regular production total cost\n",
    "# sum( each month regular production * each moth production cost)\n",
    "# sum( regular procuction * ci )\n",
    "rp_total_cost = (r1+r2+r3+r4) * 440\n",
    "\n",
    "# Extra production total cost\n",
    "# sum(Eeach month extra production * each month extra production cost)\n",
    "ep_total_cost = (ep1+ep2+ep3+ep4) * (440 + 260)\n",
    "\n",
    "# the objective : minimize the cost\n",
    "    #storage --> previous month...\n",
    "# sum(each month storage * 5 dollar) + sum(regular proudction total cost) + sum(extra production cost)\n",
    "\n",
    "obj = stor_total_cost + rp_total_cost + ep_total_cost\n",
    "m.setObjective(obj, GRB.MINIMIZE)\n",
    "\n",
    "########################\n",
    "# constraints below;:::#\n",
    "########################\n",
    "\n",
    "# maxium storage availability\n",
    "con10 = m.addConstr(stor_m1 <=100, name ='storage_1st_month')\n",
    "con11 = m.addConstr(stor_m2 <=100,name =\"storage_2nd_month\")\n",
    "con12 = m.addConstr(stor_m3 <=100,name =\"storage_3rd_month\")\n",
    "con13 = m.addConstr(stor_m4 <=100,name =\"storage_4th_month\")\n",
    "# con14 = m.addConstr(stor_m1+stor_m2+stor_m3+stor_m4 <= 100, name ='total_storage_capacity_100')\n",
    "# end of 4th month storage must be zero.\n",
    "con15 = m.addConstr(stor_m4 == 0, name =\"month_4th_zero\")\n",
    "\n",
    "\n",
    "# regular production in each month must be last 10% of total production of first three month okay\n",
    "con20 = m.addConstr(r1+r2+r3 >= ((r1+ep1)+(r2+ep2)+(r3+ep3))*0.1)\n",
    "    \n",
    "# CONFUSED WITH IT BETWEEN ABOVE VS BELOW\n",
    "#    con21 = m.addConstr(r1 >= ((r1+ep1)+(r2+ep2)+(r3+ep3))*0.1)\n",
    "#    con22 = m.addConstr(r2 >= ((r1+ep1)+(r2+ep2)+(r3+ep3))*0.1)\n",
    "#    con23 = m.addConstr(r3 >= ((r1+ep1)+(r2+ep2)+(r3+ep3))*0.1)\n",
    "#    con24 = m.addConstr(r4 >= ((r1+ep1)+(r2+ep2)+(r3+ep3))*0.1)\n",
    "\n",
    "\n",
    "# regular production less than max production pi okay\n",
    "con31 = m.addConstr(r1 <= 140)\n",
    "con32 = m.addConstr(r2 <= 150)\n",
    "con33 = m.addConstr(r3 <= 140)\n",
    "con34 = m.addConstr(r4 <= 160)\n",
    "\n",
    "# Extra production less than max extra production qi okay \n",
    "con40 = m.addConstr(ep1 <= 50)\n",
    "con41 = m.addConstr(ep2 <= 75)\n",
    "con42 = m.addConstr(ep3 <= 70)\n",
    "con43 = m.addConstr(ep4 <= 80)\n",
    "\n",
    "# non-negativeity constraints okay\n",
    "con70 = m.addConstr(r1>=0)\n",
    "con71 = m.addConstr(r2>=0)\n",
    "con72 = m.addConstr(r3>=0)\n",
    "con73 = m.addConstr(r4>=0)\n",
    "con74 = m.addConstr(ep1>=0)\n",
    "con75 = m.addConstr(ep2>=0)\n",
    "con76 = m.addConstr(ep3>=0)\n",
    "con77 = m.addConstr(ep4>=0)\n",
    "con78 = m.addConstr(stor_m1 >= 0)\n",
    "con781 = m.addConstr(stor_m2 >= 0)\n",
    "con782 = m.addConstr(stor_m3 >= 0)\n",
    "con783 = m.addConstr(stor_m4 >= 0)\n",
    "\n",
    "#solve\n",
    "m.optimize()\n",
    "\n"
   ]
  },
  {
   "cell_type": "markdown",
   "id": "2b02934e",
   "metadata": {},
   "source": []
  },
  {
   "cell_type": "code",
   "execution_count": 40,
   "id": "bb0399a6",
   "metadata": {},
   "outputs": [
    {
     "name": "stdout",
     "output_type": "stream",
     "text": [
      "\n",
      "Total Operating Cost: 393175\n",
      "\n",
      "Decision variables:\n",
      "first_month_regular = 140\n",
      "second_month_regular = 150\n",
      "third_month_regular = 140\n",
      "fourth_month_regular = 160\n",
      "first_month_extra = 5\n",
      "second_month_extra = 75\n",
      "third_month_extra = 70\n",
      "fourth_month_extra = 40\n"
     ]
    }
   ],
   "source": [
    "# Print optimal value of the objective function\n",
    "print('\\nTotal Operating Cost: %g' %m.objVal)\n",
    "# Print optimal values for the decision variables\n",
    "print('\\nDecision variables:')\n",
    "for v in m.getVars():\n",
    "    print('%s = %g' % (v.varName, v.x))\n",
    "    \n",
    "    "
   ]
  },
  {
   "cell_type": "code",
   "execution_count": null,
   "id": "ffc412e7",
   "metadata": {},
   "outputs": [],
   "source": []
  }
 ],
 "metadata": {
  "kernelspec": {
   "display_name": "Python 3",
   "language": "python",
   "name": "python3"
  },
  "language_info": {
   "codemirror_mode": {
    "name": "ipython",
    "version": 3
   },
   "file_extension": ".py",
   "mimetype": "text/x-python",
   "name": "python",
   "nbconvert_exporter": "python",
   "pygments_lexer": "ipython3",
   "version": "3.8.8"
  }
 },
 "nbformat": 4,
 "nbformat_minor": 5
}
