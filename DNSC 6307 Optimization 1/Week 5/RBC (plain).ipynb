{
 "cells": [
  {
   "cell_type": "code",
   "execution_count": 1,
   "id": "6c56f329",
   "metadata": {},
   "outputs": [
    {
     "name": "stdout",
     "output_type": "stream",
     "text": [
      "Academic license - for non-commercial use only - expires 2022-07-19\n",
      "Using license file C:\\Users\\jkettune\\gurobi.lic\n",
      "Gurobi Optimizer version 9.1.2 build v9.1.2rc0 (win64)\n",
      "Thread count: 4 physical cores, 8 logical processors, using up to 8 threads\n",
      "Optimize a model with 13 rows, 6 columns and 22 nonzeros\n",
      "Model fingerprint: 0x1ec5877e\n",
      "Coefficient statistics:\n",
      "  Matrix range     [1e+00, 3e+00]\n",
      "  Objective range  [2e+02, 2e+02]\n",
      "  Bounds range     [0e+00, 0e+00]\n",
      "  RHS range        [6e+02, 1e+04]\n",
      "Presolve removed 11 rows and 3 columns\n",
      "Presolve time: 0.03s\n",
      "Presolved: 2 rows, 3 columns, 5 nonzeros\n",
      "\n",
      "Iteration    Objective       Primal Inf.    Dual Inf.      Time\n",
      "       0    7.4000000e+05   9.624497e+02   0.000000e+00      0s\n",
      "       2    6.7606667e+05   0.000000e+00   0.000000e+00      0s\n",
      "\n",
      "Solved in 2 iterations and 0.06 seconds\n",
      "Optimal objective  6.760666667e+05\n",
      "\n",
      "Profit Contribution: 676067\n",
      "\n",
      "Decision variables:\n",
      "aw = 525\n",
      "aj = 75\n",
      "ap = 0\n",
      "bw = 175\n",
      "bj = 225\n",
      "bp = 2000\n"
     ]
    }
   ],
   "source": [
    "import gurobipy as gp\n",
    "from gurobipy import GRB\n",
    "\n",
    "# Model\n",
    "m = gp.Model(\"RBC\")\n",
    "\n",
    "# Create decision variables for tomatoes usage\n",
    "aw = m.addVar(name=\"aw\")\n",
    "aj = m.addVar(name=\"aj\")\n",
    "ap = m.addVar(name=\"ap\")\n",
    "bw = m.addVar(name=\"bw\")\n",
    "bj = m.addVar(name=\"bj\")\n",
    "bp = m.addVar(name=\"bp\")\n",
    "\n",
    "# The objective is to maximize the profit contribution\n",
    "obj = (4.44/18*1000)*aw+198*aj+222*ap+(4.44/18*1000)*bw+198*bj+222*bp\n",
    "m.setObjective(obj, GRB.MAXIMIZE)\n",
    "\n",
    "# Demand constraints\n",
    "con1 = m.addConstr(aw+bw<=14400, name='w_dem')\n",
    "con2 = m.addConstr(aj+bj<=1000, name='j_dem')\n",
    "con3 = m.addConstr(ap+bp<=2000, name='p_dem')\n",
    "\n",
    "# Supply constraints\n",
    "con4 = m.addConstr(aw+aj+ap<=600, name='a_sup')\n",
    "con5 = m.addConstr(bw+bj+bp<=2400, name='b_sup')\n",
    "\n",
    "# Quality constraints\n",
    "con6 = m.addConstr(9*aw+5*bw>=8*(aw+bw), name='w_qual')\n",
    "con7 = m.addConstr(9*aj+5*bj>=6*(aj+bj), name='j_qual')\n",
    "\n",
    "# Non-negativity constraints\n",
    "con8 = m.addConstr(aw>=0)\n",
    "con9 = m.addConstr(aj>=0)\n",
    "con10 = m.addConstr(ap>=0)\n",
    "con11 = m.addConstr(bw>=0)\n",
    "con12 = m.addConstr(bj>=0)\n",
    "con13 = m.addConstr(bp>=0)\n",
    "\n",
    "# Solve\n",
    "m.optimize()\n",
    "\n",
    "# Print optimal value of the objective function\n",
    "print('\\nProfit Contribution: %g' % m.objVal)\n",
    "# Print optimal values for the decision variables\n",
    "print('\\nDecision variables:')\n",
    "for v in m.getVars():\n",
    "    print('%s = %g' % (v.varName, v.x))\n"
   ]
  },
  {
   "cell_type": "code",
   "execution_count": null,
   "id": "c31ab1d1",
   "metadata": {},
   "outputs": [],
   "source": []
  }
 ],
 "metadata": {
  "kernelspec": {
   "display_name": "Python 3",
   "language": "python",
   "name": "python3"
  },
  "language_info": {
   "codemirror_mode": {
    "name": "ipython",
    "version": 3
   },
   "file_extension": ".py",
   "mimetype": "text/x-python",
   "name": "python",
   "nbconvert_exporter": "python",
   "pygments_lexer": "ipython3",
   "version": "3.8.8"
  }
 },
 "nbformat": 4,
 "nbformat_minor": 5
}
