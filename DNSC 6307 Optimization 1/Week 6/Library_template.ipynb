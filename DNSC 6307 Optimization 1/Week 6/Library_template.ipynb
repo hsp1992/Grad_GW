{
 "cells": [
  {
   "cell_type": "code",
   "execution_count": null,
   "id": "cadeceda",
   "metadata": {},
   "outputs": [],
   "source": [
    "import gurobipy as gp\n",
    "from gurobipy import GRB\n",
    "import pandas as pd\n",
    "\n",
    "# Reading data from .csv file using Pandas\n",
    "data = pd.read_csv('library_data.csv', index_col=0)\n",
    "journals = data.columns\n",
    "expenses = data.iloc[0]\n",
    "citations = data.iloc[1]\n",
    "usefulness = data.iloc[2]\n",
    "availability = data.iloc[3]\n",
    "\n",
    "# Create an empty model\n",
    "m = gp.Model('library')\n",
    "\n",
    "###############################################################\n",
    "# YOU NEED TO ADD VARIABLES, CONSTRAINTS AND OBJECTIVE BELOW ##\n",
    "###############################################################\n",
    "\n",
    "# Add a variable for each book to be dropped (use \"pd.Series(m.addVars(...), index=z)\")\n",
    "vars = ...\n",
    "\n",
    "# add constraints on savings between 5000 and 6000 (use vector multiplication \"x.dot(y)\")\n",
    "m.addConstr(...\n",
    "m.addConstr(...\n",
    "\n",
    "# Objective is to minimize the weighted sum\n",
    "obj = ...\n",
    "m.setObjective(obj, GRB.MINIMIZE)\n",
    "m.optimize()\n",
    "\n",
    "###############################################################\n",
    "# YOU NEED TO ADD VARIABLES, CONSTRAINTS AND OBJECTIVE ABOVE ##\n",
    "###############################################################\n",
    "\n",
    "# Print optimal value of the objective function\n",
    "print('\\nValue of objective function (weighted): %g' % m.objVal)\n",
    "\n",
    "# Print optimal values for the decision variables and cost savings\n",
    "print('\\nDecision variables:')\n",
    "tmp=0\n",
    "cost_reduction=0\n",
    "for v in m.getVars():\n",
    "    print('%s = %g' % (v.varName, v.x))\n",
    "    if v.x > 0.9:\n",
    "        cost_reduction = cost_reduction+expenses[tmp]\n",
    "    tmp = tmp + 1\n",
    "print('\\nCost savings: %g\\n' % cost_reduction)"
   ]
  }
 ],
 "metadata": {
  "kernelspec": {
   "display_name": "Python 3",
   "language": "python",
   "name": "python3"
  },
  "language_info": {
   "codemirror_mode": {
    "name": "ipython",
    "version": 3
   },
   "file_extension": ".py",
   "mimetype": "text/x-python",
   "name": "python",
   "nbconvert_exporter": "python",
   "pygments_lexer": "ipython3",
   "version": "3.8.8"
  }
 },
 "nbformat": 4,
 "nbformat_minor": 5
}
